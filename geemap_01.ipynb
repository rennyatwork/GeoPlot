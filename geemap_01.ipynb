#https://towardsdatascience.com/5-python-libraries-that-you-dont-know-but-you-should-fd6f810773a7
import sys
#!{sys.executable} -m pip install geemap

import geemap.eefolium as geemap
map = geemap.Map(center = [47, -100], zoom=4)


map

map.addLayerControl()

map.add_basemap('Esri Ocean')

# ee = Earth Engine (Google)
import ee
