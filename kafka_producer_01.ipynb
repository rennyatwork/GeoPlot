{
 "cells": [
  {
   "cell_type": "code",
   "execution_count": 3,
   "metadata": {},
   "outputs": [],
   "source": []
  },
  {
   "cell_type": "code",
   "execution_count": null,
   "metadata": {},
   "outputs": [],
   "source": [
    "# To run this example (kafka 2.1.13, ubuntu 22)\n",
    "# - take a look at https://kafka.apache.org/quickstart\n",
    "# - start by starting zookeeper UNDER kafka:\n",
    "# $ <KAFKA_HOME>/bin/zookeeper-server-start.sh ../config/zookeeper.properties\n",
    "\n",
    "# 1) Start the Kafka broker service in another terminal\n",
    "# $ <KAFKA_HOME>/bin/kafka-server-start.sh ../config/server.properties\n",
    "\n",
    "# 2) If needed, create a Kafka topic:\n",
    "#create topic:\n",
    "# $<KAFKA_HOME>/bin/kafka-topics.sh --create --topic quickstart-events --bootstrap-server localhost:9092\n",
    "\n",
    "\n",
    "# 3) Watch for messages: \n",
    "#read (consumer)\n",
    "# $<KAFKA_HOME>/bin//kafka-console-consumer.sh --topic quick-start-events --from-beginning --bootstrap-server localhost:9092\n",
    "\n",
    "# 4) Once Kafka is started, run these cells and interact with the map\n",
    "# 5) You can watch a consumer in the file kafka_consumer_03.ipynb"
   ]
  },
  {
   "cell_type": "code",
   "execution_count": null,
   "metadata": {},
   "outputs": [],
   "source": [
    "%run KAFKA_CONST.ipynb"
   ]
  },
  {
   "cell_type": "code",
   "execution_count": 4,
   "metadata": {},
   "outputs": [],
   "source": [
    "### https://towardsdatascience.com/kafka-python-explained-in-10-lines-of-code-800e3e07dad1\n",
    "### https://kafka-python.readthedocs.io/en/master/usage.html#kafkaproducer\n",
    "from kafka import KafkaProducer\n",
    "producer = KafkaProducer(bootstrap_servers=bootstrap_servers, \n",
    "                        value_serializer=lambda m: json.dumps(m).encode('utf-8'))"
   ]
  },
  {
   "cell_type": "code",
   "execution_count": 5,
   "metadata": {},
   "outputs": [],
   "source": [
    "### And you can filter the event inside the function definition:\n",
    "def filtered_map_interactions(**kwargs):\n",
    " #if kwargs.get(‘type’) == ‘mouseup’:\n",
    " #print(‘This is a mouse up event’)\n",
    " #if kwargs.get(‘type’) == ‘preclick’:m=None\n",
    " #print(‘This is a pre click event’)\n",
    "    \n",
    "\n",
    "    arg_type = kwargs.get('type') \n",
    "    if ((arg_type != 'click') and (arg_type != 'dblclick')):\n",
    "        return\n",
    "    if kwargs.get('type') == 'click':\n",
    "        print('This is a click event')\n",
    "        print(kwargs)\n",
    "    if kwargs.get(\"type\") == 'dblclick':\n",
    "        print(\"This is a 2x click event\")\n",
    "        print(kwargs)\n",
    "    data = {'message' : kwargs}\n",
    "    ack=producer.send(kafkaTopic, value=data)\n",
    "    #producer.flush()\n",
    "    metdata= ack.get()\n",
    "    print(\"Topic: \", metdata.topic)\n",
    "    print(\"Partition: \", metdata.partition)"
   ]
  },
  {
   "cell_type": "code",
   "execution_count": 6,
   "metadata": {},
   "outputs": [
    {
     "data": {
      "text/plain": [
       "'1.1.1'"
      ]
     },
     "execution_count": 6,
     "metadata": {},
     "output_type": "execute_result"
    }
   ],
   "source": [
    "from ipyleaflet import Map, Marker, Polyline\n",
    "import osmnx as ox\n",
    "## https://github.com/gboeing/osmnx-examples/blob/main/notebooks/01-overview-osmnx.ipynb\n",
    "%matplotlib inline\n",
    "ox.__version__"
   ]
  },
  {
   "cell_type": "code",
   "execution_count": 7,
   "metadata": {},
   "outputs": [],
   "source": [
    "curitiba = ox.geocode_to_gdf(\"Curitiba\")"
   ]
  },
  {
   "cell_type": "code",
   "execution_count": 8,
   "metadata": {},
   "outputs": [],
   "source": [
    "#https://ipyleaflet.readthedocs.io/en/latest/api_reference/marker.html\n",
    "class Location:\n",
    "    def __init__(self, pLat=36.3, pLong=137.97):\n",
    "        self.latitude =pLat\n",
    "        self.longitude=pLong"
   ]
  },
  {
   "cell_type": "code",
   "execution_count": 9,
   "metadata": {},
   "outputs": [],
   "source": [
    "### https://medium.com/swlh/how-to-use-mouse-events-on-ipyleaflet-4d002097efc0\n",
    "### How to Use Mouse Events on Ipyleaflet\n",
    "m=None\n",
    "from ipyleaflet import *\n",
    "center = (curitiba.lat[0], curitiba.lon[0])\n",
    "m = Map(center=center)"
   ]
  },
  {
   "cell_type": "code",
   "execution_count": 10,
   "metadata": {},
   "outputs": [],
   "source": [
    "### listen only to filtered actions\n",
    "m.on_interaction(filtered_map_interactions)"
   ]
  },
  {
   "cell_type": "code",
   "execution_count": 11,
   "metadata": {},
   "outputs": [
    {
     "data": {
      "application/vnd.jupyter.widget-view+json": {
       "model_id": "a1b8bac7a91a4d3c947033fc3caf6f6c",
       "version_major": 2,
       "version_minor": 0
      },
      "text/plain": [
       "Map(center=[-25.4295963, -49.2712724], controls=(ZoomControl(options=['position', 'zoom_in_text', 'zoom_in_tit…"
      ]
     },
     "metadata": {},
     "output_type": "display_data"
    }
   ],
   "source": [
    "m"
   ]
  },
  {
   "cell_type": "code",
   "execution_count": null,
   "metadata": {},
   "outputs": [],
   "source": []
  }
 ],
 "metadata": {
  "kernelspec": {
   "display_name": "Python 3",
   "language": "python",
   "name": "python3"
  },
  "language_info": {
   "codemirror_mode": {
    "name": "ipython",
    "version": 3
   },
   "file_extension": ".py",
   "mimetype": "text/x-python",
   "name": "python",
   "nbconvert_exporter": "python",
   "pygments_lexer": "ipython3",
   "version": "3.8.10"
  }
 },
 "nbformat": 4,
 "nbformat_minor": 4
}
