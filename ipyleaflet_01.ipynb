#https://ipyleaflet.readthedocs.io/en/latest/usage.html
from ipyleaflet import Map, Marker, basemaps, Polyline, Polygon, LayersControl
from ipyleaflet import LayerGroup, SearchControl, GeoJSON
import os, requests, json

center = (-25.4290, -49.2671)

# https://ipyleaflet.readthedocs.io/en/latest/api_reference/search_control.html
if not os.path.exists('countries.geo.json'):
      url = 'https://raw.githubusercontent.com/jupyter-widgets/ipyleaflet/master/examples/countries.geo.json'
      r = requests.get(url)
      with open('countries.geo.json', 'w') as f:
        f.write(r.content.decode("utf-8"))


with open("countries.geo.json") as f:
    data = json.load(f)

countries = GeoJSON(data=data)
layer_group = LayerGroup(layers=(countries,))


marker = Marker(location=center, draggable=True)
m.add_layer(marker);
m.add_control(LayersControl())


display(m)


searchCtrl = SearchControl(
  position="topleft",
  layer=layer_group,
  zoom=4,
  property_name='name',
  marker=marker
)
m.add_control(searchCtrl)


m.remove_control(searchCtrl)
