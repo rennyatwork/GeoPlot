{
 "cells": [
  {
   "cell_type": "code",
   "execution_count": null,
   "metadata": {},
   "outputs": [],
   "source": [
    "#https://pandas.pydata.org/docs/getting_started/intro_tutorials/02_read_write.html\n",
    "import pandas as pd\n",
    "##from ipyleaflet import Map, Marker, Polyline\n",
    "from ipyleaflet import *\n",
    "!{sys.executable} -m pip install osmnx\n"
   ]
  },
  {
   "cell_type": "code",
   "execution_count": 46,
   "metadata": {},
   "outputs": [],
   "source": [
    "# https://towardsdatascience.com/find-and-plot-your-optimal-path-using-plotly-and-networkx-in-python-17e75387b873\n",
    "# The OSMnx library helps to retrieve, analyze, and visualize street networks from OpenStreetMap\n",
    "import osmnx as ox"
   ]
  },
  {
   "cell_type": "code",
   "execution_count": 47,
   "metadata": {},
   "outputs": [],
   "source": [
    "## instaling pandasql\n",
    "## https://towardsdatascience.com/how-to-use-sql-in-pandas-62d8a0f6341\n",
    "\n",
    "import sys\n",
    "#!{sys.executable} -m pip install pandasql"
   ]
  },
  {
   "cell_type": "code",
   "execution_count": 48,
   "metadata": {},
   "outputs": [],
   "source": [
    "# https://towardsdatascience.com/how-to-use-sql-in-pandas-62d8a0f6341\n",
    "from pandasql import sqldf\n",
    "pysqldf = lambda q: sqldf(q, globals())\n",
    "\n",
    "## Example\n",
    "## q = \"\"\"SELECT Name \n",
    "##       FROM df \n",
    "##       LIMIT 10;\"\"\"\n",
    "\n",
    "##names = pysqldf(q)\n",
    "##names"
   ]
  },
  {
   "cell_type": "code",
   "execution_count": 49,
   "metadata": {},
   "outputs": [],
   "source": [
    "#https://ipyleaflet.readthedocs.io/en/latest/api_reference/marker.html\n",
    "class Location:\n",
    "    def __init__(self, pLat=36.3, pLong=137.97):\n",
    "        self.latitude =pLat\n",
    "        self.longitude=pLong"
   ]
  },
  {
   "cell_type": "code",
   "execution_count": 50,
   "metadata": {},
   "outputs": [],
   "source": [
    "curitiba = Location(-25.43, -49.27)\n",
    "matsumoto = Location(36.24, 137.98)\n",
    "sendai = Location(38.23, 140.87)"
   ]
  },
  {
   "cell_type": "code",
   "execution_count": 51,
   "metadata": {},
   "outputs": [
    {
     "data": {
      "text/plain": [
       "<__main__.Location at 0x7f186ae16fd0>"
      ]
     },
     "execution_count": 51,
     "metadata": {},
     "output_type": "execute_result"
    }
   ],
   "source": [
    "curitiba"
   ]
  },
  {
   "cell_type": "code",
   "execution_count": 52,
   "metadata": {},
   "outputs": [
    {
     "data": {
      "application/vnd.jupyter.widget-view+json": {
       "model_id": "06621a095f64418ca127096348bb0247",
       "version_major": 2,
       "version_minor": 0
      },
      "text/plain": [
       "Map(center=[36.24, 137.98], controls=(ZoomControl(options=['position', 'zoom_in_text', 'zoom_in_title', 'zoom_…"
      ]
     },
     "metadata": {},
     "output_type": "display_data"
    }
   ],
   "source": [
    "#loc = curitiba\n",
    "loc = matsumoto\n",
    "center = (loc.latitude, loc.longitude)\n",
    "\n",
    "m = Map(center=center, zoom=15)\n",
    "\n",
    "marker = Marker(location=center, draggable=True)\n",
    "m.add_layer(marker);\n",
    "\n",
    "display(m)\n",
    "\n",
    "# Now that the marker is on the Map, you can drag it with your mouse,\n",
    "# it will automatically update the `marker.location` attribute in Python\n",
    "\n",
    "# You can also update the marker location from Python, that will update the\n",
    "# marker location on the Map:\n",
    "marker.location = (loc.latitude, loc.longitude)"
   ]
  },
  {
   "cell_type": "code",
   "execution_count": 53,
   "metadata": {},
   "outputs": [],
   "source": [
    "polygons =pd.read_csv(\"./DataSets/shapes.txt\")"
   ]
  },
  {
   "cell_type": "code",
   "execution_count": 28,
   "metadata": {},
   "outputs": [
    {
     "data": {
      "text/html": [
       "<div>\n",
       "<style scoped>\n",
       "    .dataframe tbody tr th:only-of-type {\n",
       "        vertical-align: middle;\n",
       "    }\n",
       "\n",
       "    .dataframe tbody tr th {\n",
       "        vertical-align: top;\n",
       "    }\n",
       "\n",
       "    .dataframe thead th {\n",
       "        text-align: right;\n",
       "    }\n",
       "</style>\n",
       "<table border=\"1\" class=\"dataframe\">\n",
       "  <thead>\n",
       "    <tr style=\"text-align: right;\">\n",
       "      <th></th>\n",
       "      <th>shape_id</th>\n",
       "      <th>shape_pt_lat</th>\n",
       "      <th>shape_pt_lon</th>\n",
       "      <th>shape_pt_sequence</th>\n",
       "      <th>shape_dist_traveled</th>\n",
       "    </tr>\n",
       "  </thead>\n",
       "  <tbody>\n",
       "    <tr>\n",
       "      <th>0</th>\n",
       "      <td>498</td>\n",
       "      <td>43.64481</td>\n",
       "      <td>-79.38032</td>\n",
       "      <td>1</td>\n",
       "      <td>NaN</td>\n",
       "    </tr>\n",
       "    <tr>\n",
       "      <th>1</th>\n",
       "      <td>498</td>\n",
       "      <td>43.64072</td>\n",
       "      <td>-79.39890</td>\n",
       "      <td>2</td>\n",
       "      <td>NaN</td>\n",
       "    </tr>\n",
       "    <tr>\n",
       "      <th>2</th>\n",
       "      <td>498</td>\n",
       "      <td>43.64041</td>\n",
       "      <td>-79.40127</td>\n",
       "      <td>3</td>\n",
       "      <td>NaN</td>\n",
       "    </tr>\n",
       "    <tr>\n",
       "      <th>3</th>\n",
       "      <td>498</td>\n",
       "      <td>43.64013</td>\n",
       "      <td>-79.40603</td>\n",
       "      <td>4</td>\n",
       "      <td>NaN</td>\n",
       "    </tr>\n",
       "    <tr>\n",
       "      <th>4</th>\n",
       "      <td>498</td>\n",
       "      <td>43.64063</td>\n",
       "      <td>-79.42191</td>\n",
       "      <td>5</td>\n",
       "      <td>NaN</td>\n",
       "    </tr>\n",
       "    <tr>\n",
       "      <th>...</th>\n",
       "      <td>...</td>\n",
       "      <td>...</td>\n",
       "      <td>...</td>\n",
       "      <td>...</td>\n",
       "      <td>...</td>\n",
       "    </tr>\n",
       "    <tr>\n",
       "      <th>97280</th>\n",
       "      <td>479</td>\n",
       "      <td>45.41387</td>\n",
       "      <td>-75.65985</td>\n",
       "      <td>663</td>\n",
       "      <td>NaN</td>\n",
       "    </tr>\n",
       "    <tr>\n",
       "      <th>97281</th>\n",
       "      <td>479</td>\n",
       "      <td>45.41438</td>\n",
       "      <td>-75.65947</td>\n",
       "      <td>664</td>\n",
       "      <td>NaN</td>\n",
       "    </tr>\n",
       "    <tr>\n",
       "      <th>97282</th>\n",
       "      <td>479</td>\n",
       "      <td>45.41485</td>\n",
       "      <td>-75.65884</td>\n",
       "      <td>665</td>\n",
       "      <td>NaN</td>\n",
       "    </tr>\n",
       "    <tr>\n",
       "      <th>97283</th>\n",
       "      <td>479</td>\n",
       "      <td>45.41524</td>\n",
       "      <td>-75.65780</td>\n",
       "      <td>666</td>\n",
       "      <td>NaN</td>\n",
       "    </tr>\n",
       "    <tr>\n",
       "      <th>97284</th>\n",
       "      <td>479</td>\n",
       "      <td>45.41599</td>\n",
       "      <td>-75.65150</td>\n",
       "      <td>667</td>\n",
       "      <td>NaN</td>\n",
       "    </tr>\n",
       "  </tbody>\n",
       "</table>\n",
       "<p>97285 rows × 5 columns</p>\n",
       "</div>"
      ],
      "text/plain": [
       "       shape_id  shape_pt_lat  shape_pt_lon  shape_pt_sequence  \\\n",
       "0           498      43.64481     -79.38032                  1   \n",
       "1           498      43.64072     -79.39890                  2   \n",
       "2           498      43.64041     -79.40127                  3   \n",
       "3           498      43.64013     -79.40603                  4   \n",
       "4           498      43.64063     -79.42191                  5   \n",
       "...         ...           ...           ...                ...   \n",
       "97280       479      45.41387     -75.65985                663   \n",
       "97281       479      45.41438     -75.65947                664   \n",
       "97282       479      45.41485     -75.65884                665   \n",
       "97283       479      45.41524     -75.65780                666   \n",
       "97284       479      45.41599     -75.65150                667   \n",
       "\n",
       "       shape_dist_traveled  \n",
       "0                      NaN  \n",
       "1                      NaN  \n",
       "2                      NaN  \n",
       "3                      NaN  \n",
       "4                      NaN  \n",
       "...                    ...  \n",
       "97280                  NaN  \n",
       "97281                  NaN  \n",
       "97282                  NaN  \n",
       "97283                  NaN  \n",
       "97284                  NaN  \n",
       "\n",
       "[97285 rows x 5 columns]"
      ]
     },
     "execution_count": 28,
     "metadata": {},
     "output_type": "execute_result"
    }
   ],
   "source": [
    "polygons"
   ]
  },
  {
   "cell_type": "code",
   "execution_count": 54,
   "metadata": {},
   "outputs": [
    {
     "data": {
      "text/plain": [
       "108"
      ]
     },
     "execution_count": 54,
     "metadata": {},
     "output_type": "execute_result"
    }
   ],
   "source": [
    "# https://cmdlinetips.com/2018/01/how-to-get-unique-values-from-a-column-in-pandas-data-frame/\n",
    "len(polygons['shape_id'].unique())"
   ]
  },
  {
   "cell_type": "code",
   "execution_count": null,
   "metadata": {},
   "outputs": [],
   "source": [
    "# https://pypi.org/project/LatLon/\n",
    "polygons.columns"
   ]
  },
  {
   "cell_type": "code",
   "execution_count": 7,
   "metadata": {},
   "outputs": [
    {
     "name": "stdout",
     "output_type": "stream",
     "text": [
      "[498 499 494 495 496 497 490 491 492 542 543 540 541 546 547 544 545 548\n",
      " 549 434 269 537 536 535 534 533 371 539 538 270 397 396 112 278 279 525\n",
      " 526 520 449 448 443 442 446 445 444 109 388 519 518 511 510 513 512 433\n",
      " 517 516 458 459 450 451 452 453 454 455 456 508 504 505 502 503 500 501\n",
      " 467 466 461 460 463 462  91  93  95 111 110 554 551 550 553 552 489 488\n",
      " 487 486 485 484 483 482 481 514 472 473 470 471 476 477 474 475 478 479]\n"
     ]
    }
   ],
   "source": [
    "print(polygons['shape_id'].unique())"
   ]
  },
  {
   "cell_type": "code",
   "execution_count": 8,
   "metadata": {},
   "outputs": [],
   "source": [
    "##dict_locations = {}\n",
    "##dir(dict_locations.items)"
   ]
  },
  {
   "cell_type": "code",
   "execution_count": 55,
   "metadata": {},
   "outputs": [],
   "source": [
    "## https://towardsdatascience.com/how-to-select-rows-from-pandas-dataframe-based-on-column-values-d3f5da421e93\n",
    "## iterate over all distinct shapes\n",
    "## iterate over every pair (lat, long) of the shapes\n",
    "## create a dictionary <shape_id, Location()>\n",
    "dict_locations = {}\n",
    "for shape_id in polygons['shape_id'].unique():\n",
    "    #print(\"shape_id : \" , shape_id)\n",
    "    ## initialize with empty list\n",
    "    dict_locations[shape_id] =[]\n",
    "    df = polygons.loc[polygons['shape_id'] == shape_id].sort_values(by=[\"shape_id\", \"shape_pt_sequence\"])\n",
    "    for row in df.itertuples():\n",
    "        dict_locations[shape_id].append(Location(row.shape_pt_lat, row.shape_pt_lon))"
   ]
  },
  {
   "cell_type": "code",
   "execution_count": 12,
   "metadata": {},
   "outputs": [
    {
     "data": {
      "text/plain": [
       "108"
      ]
     },
     "execution_count": 12,
     "metadata": {},
     "output_type": "execute_result"
    }
   ],
   "source": [
    "len(dict_locations)"
   ]
  },
  {
   "cell_type": "code",
   "execution_count": null,
   "metadata": {},
   "outputs": [],
   "source": [
    "dict_locations.keys()"
   ]
  },
  {
   "cell_type": "code",
   "execution_count": null,
   "metadata": {},
   "outputs": [],
   "source": [
    "dict_locations[498]"
   ]
  },
  {
   "cell_type": "code",
   "execution_count": 56,
   "metadata": {},
   "outputs": [],
   "source": [
    "\n",
    "line = Polyline(locations = [[[[curitiba.latitude, curitiba.longitude], [matsumoto.latitude, matsumoto.longitude]],]] ,\n",
    "                color=\"green\",\n",
    "                fill_color=\"green\"                \n",
    "               )\n",
    "m.add_layer(line)"
   ]
  },
  {
   "cell_type": "code",
   "execution_count": 57,
   "metadata": {},
   "outputs": [
    {
     "data": {
      "application/vnd.jupyter.widget-view+json": {
       "model_id": "29e09c4771214b2a9889be4fcd641478",
       "version_major": 2,
       "version_minor": 0
      },
      "text/plain": [
       "Map(center=[43.64481, -79.38032], controls=(ZoomControl(options=['position', 'zoom_in_text', 'zoom_in_title', …"
      ]
     },
     "metadata": {},
     "output_type": "display_data"
    }
   ],
   "source": [
    "## empty list\n",
    "polyLines = []\n",
    "\n",
    "## just one shape_id\n",
    "for loc in dict_locations[498]:\n",
    "    ## print(loc.latitude)\n",
    "    ## add to polyLines (lat, lon)\n",
    "    polyLines.append([loc.latitude, loc.longitude])\n",
    "\n",
    "### creates a list of points and draw the lines\n",
    "lines = Polyline(\n",
    "    locations = [polyLines]\n",
    "    , color=\"green\",\n",
    "    fill=False\n",
    ")\n",
    "\n",
    "## recenter the map\n",
    "m = Map(center = polyLines[0], zoom=2)\n",
    "\n",
    "## add lines\n",
    "m.add_layer(lines)\n",
    "\n",
    "## show map\n",
    "m"
   ]
  },
  {
   "cell_type": "code",
   "execution_count": 58,
   "metadata": {},
   "outputs": [],
   "source": [
    "### Function to get locations\n",
    "\n",
    "def get_list_locations(pDictLocations,  pLat, pLon):\n",
    "    ## empty lists\n",
    "    listLocations = []\n",
    "\n",
    "\n",
    "## dictColors\n",
    "#dictColors ={0:\"green\", 1:\"gray\", 2:\"blue\", 3:\"black\"}\n",
    "\n",
    "\n",
    "## all shape_id\n",
    "    for dictKey in pDictLocations.keys():\n",
    "        polyLines = []\n",
    "        for loc in pDictLocations[dictKey]:\n",
    "            #print(loc.latitude)\n",
    "        ## add to polyLines (lat, lon)\n",
    "            #polyLines.append([loc[pLat], loc[pLon]])\n",
    "            polyLines.append([loc.latitude, loc.longitude])\n",
    "    #state = ox.gdf_from_place('Georgia, US') \n",
    "    #print(\"shape_id: \", shape_id)\n",
    "    #print(len(polyLines))\n",
    "            listLocations.append(polyLines)\n",
    "    \n",
    "    #print(len(listLocations))\n",
    "    return listLocations"
   ]
  },
  {
   "cell_type": "code",
   "execution_count": 59,
   "metadata": {},
   "outputs": [],
   "source": [
    "listLocations = get_list_locations(dict_locations, \"latitude\", \"longitude\")"
   ]
  },
  {
   "cell_type": "code",
   "execution_count": 60,
   "metadata": {},
   "outputs": [],
   "source": [
    "## empty lists\n",
    "listLocations = []\n",
    "\n",
    "\n",
    "## dictColors\n",
    "#dictColors ={0:\"green\", 1:\"gray\", 2:\"blue\", 3:\"black\"}\n",
    "\n",
    "\n",
    "## all shape_id\n",
    "for shape_id in dict_locations.keys():\n",
    "    polyLines = []\n",
    "    for loc in dict_locations[shape_id]:\n",
    "        ## print(loc.latitude)\n",
    "        ## add to polyLines (lat, lon)\n",
    "        polyLines.append([loc.latitude, loc.longitude])\n",
    "\n",
    "    #print(\"shape_id: \", shape_id)\n",
    "    #print(len(polyLines))\n",
    "    listLocations.append(polyLines)\n",
    "    \n",
    "    #print(len(listLocations))"
   ]
  },
  {
   "cell_type": "code",
   "execution_count": 24,
   "metadata": {},
   "outputs": [
    {
     "data": {
      "text/plain": [
       "184"
      ]
     },
     "execution_count": 24,
     "metadata": {},
     "output_type": "execute_result"
    }
   ],
   "source": [
    "len(listLocations[0])"
   ]
  },
  {
   "cell_type": "code",
   "execution_count": 67,
   "metadata": {},
   "outputs": [
    {
     "data": {
      "application/vnd.jupyter.widget-view+json": {
       "model_id": "90ccb2ce69fc45d39c007202df1c7da7",
       "version_major": 2,
       "version_minor": 0
      },
      "text/plain": [
       "Map(center=[43.64481, -79.38032], controls=(ZoomControl(options=['position', 'zoom_in_text', 'zoom_in_title', …"
      ]
     },
     "metadata": {},
     "output_type": "display_data"
    }
   ],
   "source": [
    "\n",
    "### creates a list of points and draw the lines\n",
    "lines = Polyline(\n",
    "    locations = [listLocations]\n",
    "    , color=\"black\",\n",
    "    fill=False\n",
    ")\n",
    "\n",
    "\n",
    "## recenter the map\n",
    "m = Map(center = polyLines[0], zoom=2)\n",
    "\n",
    "## add lines\n",
    "m.add_layer(lines)\n",
    "\n",
    "## show map\n",
    "m"
   ]
  },
  {
   "cell_type": "code",
   "execution_count": 62,
   "metadata": {},
   "outputs": [],
   "source": [
    "### reading stops\n",
    "stops = pd.read_csv(\"./DataSets/stops.txt\")"
   ]
  },
  {
   "cell_type": "code",
   "execution_count": 27,
   "metadata": {},
   "outputs": [
    {
     "data": {
      "text/html": [
       "<div>\n",
       "<style scoped>\n",
       "    .dataframe tbody tr th:only-of-type {\n",
       "        vertical-align: middle;\n",
       "    }\n",
       "\n",
       "    .dataframe tbody tr th {\n",
       "        vertical-align: top;\n",
       "    }\n",
       "\n",
       "    .dataframe thead th {\n",
       "        text-align: right;\n",
       "    }\n",
       "</style>\n",
       "<table border=\"1\" class=\"dataframe\">\n",
       "  <thead>\n",
       "    <tr style=\"text-align: right;\">\n",
       "      <th></th>\n",
       "      <th>stop_id</th>\n",
       "      <th>stop_code</th>\n",
       "      <th>stop_name</th>\n",
       "      <th>location_type</th>\n",
       "      <th>stop_lon</th>\n",
       "      <th>stop_lat</th>\n",
       "      <th>stop_timezone</th>\n",
       "      <th>parent_station</th>\n",
       "      <th>wheelchair_boarding</th>\n",
       "    </tr>\n",
       "  </thead>\n",
       "  <tbody>\n",
       "    <tr>\n",
       "      <th>0</th>\n",
       "      <td>344</td>\n",
       "      <td>ALEX</td>\n",
       "      <td>Alexandria</td>\n",
       "      <td>0</td>\n",
       "      <td>-74.639672</td>\n",
       "      <td>45.318050</td>\n",
       "      <td>America/Toronto</td>\n",
       "      <td>NaN</td>\n",
       "      <td>1.0</td>\n",
       "    </tr>\n",
       "    <tr>\n",
       "      <th>1</th>\n",
       "      <td>345</td>\n",
       "      <td>YONK</td>\n",
       "      <td>Yonkers</td>\n",
       "      <td>0</td>\n",
       "      <td>-73.902502</td>\n",
       "      <td>40.935573</td>\n",
       "      <td>America/New_York</td>\n",
       "      <td>NaN</td>\n",
       "      <td>NaN</td>\n",
       "    </tr>\n",
       "    <tr>\n",
       "      <th>2</th>\n",
       "      <td>346</td>\n",
       "      <td>NIAG</td>\n",
       "      <td>Niagara Falls</td>\n",
       "      <td>0</td>\n",
       "      <td>-79.063339</td>\n",
       "      <td>43.108937</td>\n",
       "      <td>America/New_York</td>\n",
       "      <td>NaN</td>\n",
       "      <td>1.0</td>\n",
       "    </tr>\n",
       "    <tr>\n",
       "      <th>3</th>\n",
       "      <td>347</td>\n",
       "      <td>OCHR</td>\n",
       "      <td>Ochre River</td>\n",
       "      <td>0</td>\n",
       "      <td>-99.781867</td>\n",
       "      <td>51.061399</td>\n",
       "      <td>America/Winnipeg</td>\n",
       "      <td>NaN</td>\n",
       "      <td>NaN</td>\n",
       "    </tr>\n",
       "    <tr>\n",
       "      <th>4</th>\n",
       "      <td>340</td>\n",
       "      <td>WVHO</td>\n",
       "      <td>Wivenhoe</td>\n",
       "      <td>0</td>\n",
       "      <td>-95.213765</td>\n",
       "      <td>56.176547</td>\n",
       "      <td>America/Winnipeg</td>\n",
       "      <td>NaN</td>\n",
       "      <td>NaN</td>\n",
       "    </tr>\n",
       "    <tr>\n",
       "      <th>...</th>\n",
       "      <td>...</td>\n",
       "      <td>...</td>\n",
       "      <td>...</td>\n",
       "      <td>...</td>\n",
       "      <td>...</td>\n",
       "      <td>...</td>\n",
       "      <td>...</td>\n",
       "      <td>...</td>\n",
       "      <td>...</td>\n",
       "    </tr>\n",
       "    <tr>\n",
       "      <th>626</th>\n",
       "      <td>477</td>\n",
       "      <td>ERIN</td>\n",
       "      <td>Erindale GO</td>\n",
       "      <td>0</td>\n",
       "      <td>-79.668626</td>\n",
       "      <td>43.567081</td>\n",
       "      <td>America/Toronto</td>\n",
       "      <td>NaN</td>\n",
       "      <td>NaN</td>\n",
       "    </tr>\n",
       "    <tr>\n",
       "      <th>627</th>\n",
       "      <td>474</td>\n",
       "      <td>MHAM</td>\n",
       "      <td>Markham GO</td>\n",
       "      <td>0</td>\n",
       "      <td>-79.262644</td>\n",
       "      <td>43.882692</td>\n",
       "      <td>America/Toronto</td>\n",
       "      <td>NaN</td>\n",
       "      <td>NaN</td>\n",
       "    </tr>\n",
       "    <tr>\n",
       "      <th>628</th>\n",
       "      <td>475</td>\n",
       "      <td>AROR</td>\n",
       "      <td>Aurora GO</td>\n",
       "      <td>0</td>\n",
       "      <td>-79.459649</td>\n",
       "      <td>44.000067</td>\n",
       "      <td>America/Toronto</td>\n",
       "      <td>NaN</td>\n",
       "      <td>NaN</td>\n",
       "    </tr>\n",
       "    <tr>\n",
       "      <th>629</th>\n",
       "      <td>478</td>\n",
       "      <td>STBR</td>\n",
       "      <td>Saint-Bruno de Montarville (EXO)</td>\n",
       "      <td>0</td>\n",
       "      <td>-73.374218</td>\n",
       "      <td>45.512022</td>\n",
       "      <td>America/Toronto</td>\n",
       "      <td>NaN</td>\n",
       "      <td>NaN</td>\n",
       "    </tr>\n",
       "    <tr>\n",
       "      <th>630</th>\n",
       "      <td>479</td>\n",
       "      <td>OLDC</td>\n",
       "      <td>Old Cummer GO</td>\n",
       "      <td>0</td>\n",
       "      <td>-79.371193</td>\n",
       "      <td>43.792248</td>\n",
       "      <td>America/Toronto</td>\n",
       "      <td>NaN</td>\n",
       "      <td>NaN</td>\n",
       "    </tr>\n",
       "  </tbody>\n",
       "</table>\n",
       "<p>631 rows × 9 columns</p>\n",
       "</div>"
      ],
      "text/plain": [
       "     stop_id stop_code                         stop_name  location_type  \\\n",
       "0        344      ALEX                        Alexandria              0   \n",
       "1        345      YONK                           Yonkers              0   \n",
       "2        346      NIAG                     Niagara Falls              0   \n",
       "3        347      OCHR                       Ochre River              0   \n",
       "4        340      WVHO                          Wivenhoe              0   \n",
       "..       ...       ...                               ...            ...   \n",
       "626      477      ERIN                       Erindale GO              0   \n",
       "627      474      MHAM                        Markham GO              0   \n",
       "628      475      AROR                         Aurora GO              0   \n",
       "629      478      STBR  Saint-Bruno de Montarville (EXO)              0   \n",
       "630      479      OLDC                     Old Cummer GO              0   \n",
       "\n",
       "      stop_lon   stop_lat     stop_timezone  parent_station  \\\n",
       "0   -74.639672  45.318050   America/Toronto             NaN   \n",
       "1   -73.902502  40.935573  America/New_York             NaN   \n",
       "2   -79.063339  43.108937  America/New_York             NaN   \n",
       "3   -99.781867  51.061399  America/Winnipeg             NaN   \n",
       "4   -95.213765  56.176547  America/Winnipeg             NaN   \n",
       "..         ...        ...               ...             ...   \n",
       "626 -79.668626  43.567081   America/Toronto             NaN   \n",
       "627 -79.262644  43.882692   America/Toronto             NaN   \n",
       "628 -79.459649  44.000067   America/Toronto             NaN   \n",
       "629 -73.374218  45.512022   America/Toronto             NaN   \n",
       "630 -79.371193  43.792248   America/Toronto             NaN   \n",
       "\n",
       "     wheelchair_boarding  \n",
       "0                    1.0  \n",
       "1                    NaN  \n",
       "2                    1.0  \n",
       "3                    NaN  \n",
       "4                    NaN  \n",
       "..                   ...  \n",
       "626                  NaN  \n",
       "627                  NaN  \n",
       "628                  NaN  \n",
       "629                  NaN  \n",
       "630                  NaN  \n",
       "\n",
       "[631 rows x 9 columns]"
      ]
     },
     "execution_count": 27,
     "metadata": {},
     "output_type": "execute_result"
    }
   ],
   "source": [
    "stops"
   ]
  },
  {
   "cell_type": "code",
   "execution_count": 68,
   "metadata": {},
   "outputs": [
    {
     "data": {
      "application/vnd.jupyter.widget-view+json": {
       "model_id": "90ccb2ce69fc45d39c007202df1c7da7",
       "version_major": 2,
       "version_minor": 0
      },
      "text/plain": [
       "Map(bottom=574.0, center=[43.64481, -79.38032], controls=(ZoomControl(options=['position', 'zoom_in_text', 'zo…"
      ]
     },
     "metadata": {},
     "output_type": "display_data"
    }
   ],
   "source": [
    "markers = []\n",
    "\n",
    "for row in stops.itertuples():\n",
    "    #print (row)\n",
    "    mark = Marker(location=(row.stop_lat, row.stop_lon)\n",
    "                       , title=row.stop_name\n",
    "                       , draggable=False\n",
    "                      )\n",
    "    #m.add_layer(mark)\n",
    "    \n",
    "    \n",
    "\n",
    "    markers.append(Marker(location=(row.stop_lat, row.stop_lon)\n",
    "                       , title=row.stop_name\n",
    "                       , draggable=False))\n",
    "\n",
    "\n",
    "marker_cluster = MarkerCluster(markers=markers)\n",
    "m.add_layer(marker_cluster)\n",
    "m"
   ]
  },
  {
   "cell_type": "code",
   "execution_count": 65,
   "metadata": {},
   "outputs": [],
   "source": [
    "m=None\n",
    "## New York\n",
    "m = Map(center=(40, -74), zoom=6)"
   ]
  },
  {
   "cell_type": "code",
   "execution_count": 35,
   "metadata": {},
   "outputs": [],
   "source": [
    "m"
   ]
  },
  {
   "cell_type": "code",
   "execution_count": 46,
   "metadata": {},
   "outputs": [
    {
     "data": {
      "text/plain": [
       "'1.1.1'"
      ]
     },
     "execution_count": 47,
     "metadata": {},
     "output_type": "execute_result"
    }
   ],
   "source": [
    "## https://github.com/gboeing/osmnx-examples/blob/main/notebooks/01-overview-osmnx.ipynb\n",
    "%matplotlib inline\n",
    "ox.__version__"
   ]
  },
  {
   "cell_type": "code",
   "execution_count": 48,
   "metadata": {},
   "outputs": [],
   "source": [
    "# turn response caching off\n",
    "ox.config(use_cache=False)\n",
    "\n",
    "# turn it back on and turn on logging to your terminal window\n",
    "ox.config(use_cache=True, log_console=True)"
   ]
  },
  {
   "cell_type": "code",
   "execution_count": 49,
   "metadata": {},
   "outputs": [
    {
     "data": {
      "image/png": "[encoded data removed]",
      "text/plain": [
       "<Figure size 432x288 with 1 Axes>"
      ]
     },
     "metadata": {
      "needs_background": "light"
     },
     "output_type": "display_data"
    }
   ],
   "source": [
    "# get the boundary polygon for manhattan, project it, and plot it\n",
    "city = ox.geocode_to_gdf(\"Manhattan, New York, USA\")\n",
    "city_proj = ox.project_gdf(city)\n",
    "ax = city_proj.plot(fc=\"gray\", ec=\"none\")\n",
    "_ = ax.axis(\"off\")"
   ]
  },
  {
   "cell_type": "code",
   "execution_count": 50,
   "metadata": {},
   "outputs": [
    {
     "data": {
      "text/html": [
       "<div>\n",
       "<style scoped>\n",
       "    .dataframe tbody tr th:only-of-type {\n",
       "        vertical-align: middle;\n",
       "    }\n",
       "\n",
       "    .dataframe tbody tr th {\n",
       "        vertical-align: top;\n",
       "    }\n",
       "\n",
       "    .dataframe thead th {\n",
       "        text-align: right;\n",
       "    }\n",
       "</style>\n",
       "<table border=\"1\" class=\"dataframe\">\n",
       "  <thead>\n",
       "    <tr style=\"text-align: right;\">\n",
       "      <th></th>\n",
       "      <th>geometry</th>\n",
       "      <th>bbox_north</th>\n",
       "      <th>bbox_south</th>\n",
       "      <th>bbox_east</th>\n",
       "      <th>bbox_west</th>\n",
       "      <th>place_id</th>\n",
       "      <th>osm_type</th>\n",
       "      <th>osm_id</th>\n",
       "      <th>lat</th>\n",
       "      <th>lon</th>\n",
       "      <th>display_name</th>\n",
       "      <th>class</th>\n",
       "      <th>type</th>\n",
       "      <th>importance</th>\n",
       "    </tr>\n",
       "  </thead>\n",
       "  <tbody>\n",
       "    <tr>\n",
       "      <th>0</th>\n",
       "      <td>MULTIPOLYGON (((-74.04722 40.69086, -74.04722 ...</td>\n",
       "      <td>40.880449</td>\n",
       "      <td>40.683941</td>\n",
       "      <td>-73.906159</td>\n",
       "      <td>-74.047222</td>\n",
       "      <td>312415317</td>\n",
       "      <td>relation</td>\n",
       "      <td>8398124</td>\n",
       "      <td>40.789624</td>\n",
       "      <td>-73.959894</td>\n",
       "      <td>Manhattan, New York County, New York, United S...</td>\n",
       "      <td>boundary</td>\n",
       "      <td>administrative</td>\n",
       "      <td>0.985439</td>\n",
       "    </tr>\n",
       "  </tbody>\n",
       "</table>\n",
       "</div>"
      ],
      "text/plain": [
       "                                            geometry  bbox_north  bbox_south  \\\n",
       "0  MULTIPOLYGON (((-74.04722 40.69086, -74.04722 ...   40.880449   40.683941   \n",
       "\n",
       "   bbox_east  bbox_west   place_id  osm_type   osm_id        lat        lon  \\\n",
       "0 -73.906159 -74.047222  312415317  relation  8398124  40.789624 -73.959894   \n",
       "\n",
       "                                        display_name     class  \\\n",
       "0  Manhattan, New York County, New York, United S...  boundary   \n",
       "\n",
       "             type  importance  \n",
       "0  administrative    0.985439  "
      ]
     },
     "execution_count": 51,
     "metadata": {},
     "output_type": "execute_result"
    }
   ],
   "source": [
    "city"
   ]
  },
  {
   "cell_type": "code",
   "execution_count": 51,
   "metadata": {},
   "outputs": [],
   "source": [
    "quebecCity = ox.geocode_to_gdf(\"Quebec, Quebec\")"
   ]
  },
  {
   "cell_type": "code",
   "execution_count": 52,
   "metadata": {},
   "outputs": [
    {
     "data": {
      "text/html": [
       "<div>\n",
       "<style scoped>\n",
       "    .dataframe tbody tr th:only-of-type {\n",
       "        vertical-align: middle;\n",
       "    }\n",
       "\n",
       "    .dataframe tbody tr th {\n",
       "        vertical-align: top;\n",
       "    }\n",
       "\n",
       "    .dataframe thead th {\n",
       "        text-align: right;\n",
       "    }\n",
       "</style>\n",
       "<table border=\"1\" class=\"dataframe\">\n",
       "  <thead>\n",
       "    <tr style=\"text-align: right;\">\n",
       "      <th></th>\n",
       "      <th>geometry</th>\n",
       "      <th>bbox_north</th>\n",
       "      <th>bbox_south</th>\n",
       "      <th>bbox_east</th>\n",
       "      <th>bbox_west</th>\n",
       "      <th>place_id</th>\n",
       "      <th>osm_type</th>\n",
       "      <th>osm_id</th>\n",
       "      <th>lat</th>\n",
       "      <th>lon</th>\n",
       "      <th>display_name</th>\n",
       "      <th>class</th>\n",
       "      <th>type</th>\n",
       "      <th>importance</th>\n",
       "    </tr>\n",
       "  </thead>\n",
       "  <tbody>\n",
       "    <tr>\n",
       "      <th>0</th>\n",
       "      <td>POLYGON ((-71.54922 46.85118, -71.53139 46.838...</td>\n",
       "      <td>46.98068</td>\n",
       "      <td>46.72771</td>\n",
       "      <td>-71.133661</td>\n",
       "      <td>-71.549217</td>\n",
       "      <td>258512581</td>\n",
       "      <td>relation</td>\n",
       "      <td>2319206</td>\n",
       "      <td>46.813743</td>\n",
       "      <td>-71.208406</td>\n",
       "      <td>Quebec City, Québec (Agglomération), Capitale-...</td>\n",
       "      <td>boundary</td>\n",
       "      <td>administrative</td>\n",
       "      <td>0.842861</td>\n",
       "    </tr>\n",
       "  </tbody>\n",
       "</table>\n",
       "</div>"
      ],
      "text/plain": [
       "                                            geometry  bbox_north  bbox_south  \\\n",
       "0  POLYGON ((-71.54922 46.85118, -71.53139 46.838...    46.98068    46.72771   \n",
       "\n",
       "   bbox_east  bbox_west   place_id  osm_type   osm_id        lat        lon  \\\n",
       "0 -71.133661 -71.549217  258512581  relation  2319206  46.813743 -71.208406   \n",
       "\n",
       "                                        display_name     class  \\\n",
       "0  Quebec City, Québec (Agglomération), Capitale-...  boundary   \n",
       "\n",
       "             type  importance  \n",
       "0  administrative    0.842861  "
      ]
     },
     "execution_count": 53,
     "metadata": {},
     "output_type": "execute_result"
    }
   ],
   "source": [
    "quebecCity"
   ]
  },
  {
   "cell_type": "code",
   "execution_count": 53,
   "metadata": {},
   "outputs": [
    {
     "data": {
      "image/png": "[encoded data removed]",
      "text/plain": [
       "<Figure size 432x288 with 1 Axes>"
      ]
     },
     "metadata": {
      "needs_background": "light"
     },
     "output_type": "display_data"
    }
   ],
   "source": [
    "qc_proj = ox.project_gdf(quebecCity)\n",
    "ax = qc_proj.plot(fc=\"gray\", ec=\"none\")\n",
    "_ = ax.axis(\"off\")"
   ]
  },
  {
   "cell_type": "code",
   "execution_count": 57,
   "metadata": {},
   "outputs": [],
   "source": [
    "quebecProv_proj = ox.geocode_to_gdf(\"Quebec, Canada\")"
   ]
  },
  {
   "cell_type": "code",
   "execution_count": 58,
   "metadata": {},
   "outputs": [
    {
     "data": {
      "text/html": [
       "<div>\n",
       "<style scoped>\n",
       "    .dataframe tbody tr th:only-of-type {\n",
       "        vertical-align: middle;\n",
       "    }\n",
       "\n",
       "    .dataframe tbody tr th {\n",
       "        vertical-align: top;\n",
       "    }\n",
       "\n",
       "    .dataframe thead th {\n",
       "        text-align: right;\n",
       "    }\n",
       "</style>\n",
       "<table border=\"1\" class=\"dataframe\">\n",
       "  <thead>\n",
       "    <tr style=\"text-align: right;\">\n",
       "      <th></th>\n",
       "      <th>geometry</th>\n",
       "      <th>bbox_north</th>\n",
       "      <th>bbox_south</th>\n",
       "      <th>bbox_east</th>\n",
       "      <th>bbox_west</th>\n",
       "      <th>place_id</th>\n",
       "      <th>osm_type</th>\n",
       "      <th>osm_id</th>\n",
       "      <th>lat</th>\n",
       "      <th>lon</th>\n",
       "      <th>display_name</th>\n",
       "      <th>class</th>\n",
       "      <th>type</th>\n",
       "      <th>importance</th>\n",
       "    </tr>\n",
       "  </thead>\n",
       "  <tbody>\n",
       "    <tr>\n",
       "      <th>0</th>\n",
       "      <td>POLYGON ((-79.77414 54.63557, -79.77348 54.633...</td>\n",
       "      <td>62.580486</td>\n",
       "      <td>44.991369</td>\n",
       "      <td>-57.105486</td>\n",
       "      <td>-79.774135</td>\n",
       "      <td>258336560</td>\n",
       "      <td>relation</td>\n",
       "      <td>61549</td>\n",
       "      <td>52.476089</td>\n",
       "      <td>-71.825867</td>\n",
       "      <td>Quebec, Canada</td>\n",
       "      <td>boundary</td>\n",
       "      <td>administrative</td>\n",
       "      <td>0.972721</td>\n",
       "    </tr>\n",
       "  </tbody>\n",
       "</table>\n",
       "</div>"
      ],
      "text/plain": [
       "                                            geometry  bbox_north  bbox_south  \\\n",
       "0  POLYGON ((-79.77414 54.63557, -79.77348 54.633...   62.580486   44.991369   \n",
       "\n",
       "   bbox_east  bbox_west   place_id  osm_type  osm_id        lat        lon  \\\n",
       "0 -57.105486 -79.774135  258336560  relation   61549  52.476089 -71.825867   \n",
       "\n",
       "     display_name     class            type  importance  \n",
       "0  Quebec, Canada  boundary  administrative    0.972721  "
      ]
     },
     "execution_count": 59,
     "metadata": {},
     "output_type": "execute_result"
    }
   ],
   "source": [
    "quebecProv_proj"
   ]
  },
  {
   "cell_type": "code",
   "execution_count": 59,
   "metadata": {},
   "outputs": [
    {
     "data": {
      "image/png": "[encoded data removed]",
      "text/plain": [
       "<Figure size 432x288 with 1 Axes>"
      ]
     },
     "metadata": {
      "needs_background": "light"
     },
     "output_type": "display_data"
    }
   ],
   "source": [
    "ax = quebecProv_proj.plot(fc=\"gray\", ec=\"none\") \n"
   ]
  },
  {
   "cell_type": "code",
   "execution_count": null,
   "metadata": {},
   "outputs": [],
   "source": [
    "for row in polygons.itertuples():\n",
    "    print(row)\n",
    "    print(row.shape_pt_lat)\n",
    "    print(row.shape_pt_lon)\n"
   ]
  },
  {
   "cell_type": "code",
   "execution_count": null,
   "metadata": {},
   "outputs": [],
   "source": [
    "type(row)"
   ]
  }
 ],
 "metadata": {
  "interpreter": {
   "hash": "916dbcbb3f70747c44a77c7bcd40155683ae19c65e1c03b4aa3499c5328201f1"
  },
  "kernelspec": {
   "display_name": "Python 3.8 (XPython)",
   "language": "python",
   "name": "python3"
  },
  "language_info": {
   "codemirror_mode": {
    "name": "ipython",
    "version": 3
   },
   "file_extension": ".py",
   "mimetype": "text/x-python",
   "name": "python",
   "nbconvert_exporter": "python",
   "pygments_lexer": "ipython3",
   "version": "3.6.8"
  }
 },
 "nbformat": 4,
 "nbformat_minor": 4
}
