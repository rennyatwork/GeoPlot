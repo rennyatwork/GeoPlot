{
 "cells": [
  {
   "cell_type": "code",
   "execution_count": 5,
   "metadata": {},
   "outputs": [],
   "source": [
    "### https://coderzcolumn.com/tutorials/data-science/ipyleaflet-interactive-maps-in-python-based-on-leafletjs\n",
    "import pandas as pd\n",
    "import numpy as np\n",
    "from ipyleaflet import *"
   ]
  },
  {
   "cell_type": "code",
   "execution_count": 3,
   "metadata": {},
   "outputs": [
    {
     "data": {
      "application/vnd.jupyter.widget-view+json": {
       "model_id": "f277a6c3c0004376b6f56b15043a39f6",
       "version_major": 2,
       "version_minor": 0
      },
      "text/plain": [
       "Map(center=[18, 95], controls=(ZoomControl(options=['position', 'zoom_in_text', 'zoom_in_title', 'zoom_out_tex…"
      ]
     },
     "metadata": {},
     "output_type": "display_data"
    }
   ],
   "source": [
    "lat, lon = 18, 95\n",
    "m = Map(center=(lat,lon), zoom=3)\n",
    "m"
   ]
  },
  {
   "cell_type": "code",
   "execution_count": 4,
   "metadata": {},
   "outputs": [
    {
     "data": {
      "text/plain": [
       "{'url': 'https://{s}.tile.openstreetmap.org/{z}/{x}/{y}.png',\n",
       " 'max_zoom': 19,\n",
       " 'attribution': 'Map data (c) <a href=\"https://openstreetmap.org\">OpenStreetMap</a> contributors'}"
      ]
     },
     "execution_count": 4,
     "metadata": {},
     "output_type": "execute_result"
    }
   ],
   "source": [
    "m.basemap"
   ]
  },
  {
   "cell_type": "code",
   "execution_count": 7,
   "metadata": {},
   "outputs": [
    {
     "data": {
      "text/html": [
       "<div>\n",
       "<style scoped>\n",
       "    .dataframe tbody tr th:only-of-type {\n",
       "        vertical-align: middle;\n",
       "    }\n",
       "\n",
       "    .dataframe tbody tr th {\n",
       "        vertical-align: top;\n",
       "    }\n",
       "\n",
       "    .dataframe thead th {\n",
       "        text-align: right;\n",
       "    }\n",
       "</style>\n",
       "<table border=\"1\" class=\"dataframe\">\n",
       "  <thead>\n",
       "    <tr style=\"text-align: right;\">\n",
       "      <th></th>\n",
       "      <th>State</th>\n",
       "      <th>District</th>\n",
       "      <th>Latitude</th>\n",
       "      <th>Longitude</th>\n",
       "      <th>Population in 2001</th>\n",
       "      <th>Population in 2011</th>\n",
       "    </tr>\n",
       "  </thead>\n",
       "  <tbody>\n",
       "    <tr>\n",
       "      <th>0</th>\n",
       "      <td>Andhra Pradesh</td>\n",
       "      <td>Anantapur</td>\n",
       "      <td>14.312066</td>\n",
       "      <td>77.460158</td>\n",
       "      <td>3640478</td>\n",
       "      <td>4081148</td>\n",
       "    </tr>\n",
       "    <tr>\n",
       "      <th>1</th>\n",
       "      <td>Andhra Pradesh</td>\n",
       "      <td>Chittoor</td>\n",
       "      <td>13.331093</td>\n",
       "      <td>78.927639</td>\n",
       "      <td>3745875</td>\n",
       "      <td>4174064</td>\n",
       "    </tr>\n",
       "    <tr>\n",
       "      <th>2</th>\n",
       "      <td>Andhra Pradesh</td>\n",
       "      <td>East Godavari</td>\n",
       "      <td>16.782718</td>\n",
       "      <td>82.243207</td>\n",
       "      <td>4901420</td>\n",
       "      <td>5154296</td>\n",
       "    </tr>\n",
       "    <tr>\n",
       "      <th>3</th>\n",
       "      <td>Andhra Pradesh</td>\n",
       "      <td>Guntur</td>\n",
       "      <td>15.884926</td>\n",
       "      <td>80.586576</td>\n",
       "      <td>4465144</td>\n",
       "      <td>4887813</td>\n",
       "    </tr>\n",
       "    <tr>\n",
       "      <th>4</th>\n",
       "      <td>Andhra Pradesh</td>\n",
       "      <td>Krishna</td>\n",
       "      <td>16.143873</td>\n",
       "      <td>81.148051</td>\n",
       "      <td>4187841</td>\n",
       "      <td>4517398</td>\n",
       "    </tr>\n",
       "  </tbody>\n",
       "</table>\n",
       "</div>"
      ],
      "text/plain": [
       "            State       District   Latitude  Longitude  Population in 2001  \\\n",
       "0  Andhra Pradesh      Anantapur  14.312066  77.460158             3640478   \n",
       "1  Andhra Pradesh       Chittoor  13.331093  78.927639             3745875   \n",
       "2  Andhra Pradesh  East Godavari  16.782718  82.243207             4901420   \n",
       "3  Andhra Pradesh         Guntur  15.884926  80.586576             4465144   \n",
       "4  Andhra Pradesh        Krishna  16.143873  81.148051             4187841   \n",
       "\n",
       "   Population in 2011  \n",
       "0             4081148  \n",
       "1             4174064  \n",
       "2             5154296  \n",
       "3             4887813  \n",
       "4             4517398  "
      ]
     },
     "execution_count": 7,
     "metadata": {},
     "output_type": "execute_result"
    }
   ],
   "source": [
    "dataset_path =\"/usr/local/Downloads/DataSets/India/\"\n",
    "district_wise_population = pd.read_csv(dataset_path+ \"district wise population and centroids.csv\")\n",
    "district_wise_population.head()"
   ]
  },
  {
   "cell_type": "code",
   "execution_count": 8,
   "metadata": {},
   "outputs": [],
   "source": [
    "guj_districts_pop = district_wise_population[district_wise_population.State == \"Gujarat\"]"
   ]
  },
  {
   "cell_type": "code",
   "execution_count": 19,
   "metadata": {},
   "outputs": [
    {
     "data": {
      "text/plain": [
       "pandas.core.frame.DataFrame"
      ]
     },
     "execution_count": 19,
     "metadata": {},
     "output_type": "execute_result"
    }
   ],
   "source": [
    "type(guj_districts_pop)"
   ]
  },
  {
   "cell_type": "code",
   "execution_count": 9,
   "metadata": {},
   "outputs": [],
   "source": [
    "## We can create a marker in ipyleaflet using the Marker() constructor available. \n",
    "## We need to pass the location of the marker as a tuple of latitude and longitude \n",
    "## and it'll create a marker on the chart on that location. \n",
    "## We can also pass a string that will appear as a popup when \n",
    "## the mouse is dragged over that popup using the title attribute of Marker().\n",
    "\n",
    "m = Map(center=(23,72), zoom=7, basemap = basemaps.Esri.WorldStreetMap)\n",
    "\n",
    "for name, lon, lat in guj_districts_pop[[\"District\", \"Longitude\", \"Latitude\"]].values:\n",
    "    marker = Marker(location=(lat, lon), draggable=False, title=name, alt=name)\n",
    "    m.add_layer(marker)"
   ]
  },
  {
   "cell_type": "code",
   "execution_count": 11,
   "metadata": {},
   "outputs": [
    {
     "data": {
      "application/vnd.jupyter.widget-view+json": {
       "model_id": "c6213959cd5941f3bd300a4474e42da0",
       "version_major": 2,
       "version_minor": 0
      },
      "text/plain": [
       "Map(bottom=3758.0, center=[23, 72], controls=(ZoomControl(options=['position', 'zoom_in_text', 'zoom_in_title'…"
      ]
     },
     "metadata": {},
     "output_type": "display_data"
    }
   ],
   "source": [
    "m"
   ]
  },
  {
   "cell_type": "code",
   "execution_count": 12,
   "metadata": {},
   "outputs": [
    {
     "data": {
      "application/vnd.jupyter.widget-view+json": {
       "model_id": "e89abbd7fe0f41c3aba242bbd973226d",
       "version_major": 2,
       "version_minor": 0
      },
      "text/plain": [
       "Map(center=[23, 72], controls=(ZoomControl(options=['position', 'zoom_in_text', 'zoom_in_title', 'zoom_out_tex…"
      ]
     },
     "metadata": {},
     "output_type": "display_data"
    }
   ],
   "source": [
    "## We can create clusters of markers using the MarkerCluster() constructor available from ipyleaflet. \n",
    "## If we need to add too many markers to the chart which can result in making the chart \n",
    "## look crowded then its advisable to use MarkerCluster to create a cluster of markers. \n",
    "## It'll group clusters based on location and when clicked on that cluster of markers, \n",
    "## it'll zoom into that location and expand markers.\n",
    "## \n",
    "m = Map(center=(23,72), zoom=7, basemap = basemaps.Esri.WorldStreetMap)\n",
    "\n",
    "markers = []\n",
    "for name, lon, lat in guj_districts_pop[[\"District\", \"Longitude\", \"Latitude\"]].values:\n",
    "    markers.append(Marker(location=(lat, lon), draggable=False, title=name, alt=name))\n",
    "\n",
    "\n",
    "marker_cluster = MarkerCluster(markers=markers)\n",
    "m.add_layer(marker_cluster)\n",
    "\n",
    "m"
   ]
  },
  {
   "cell_type": "code",
   "execution_count": 25,
   "metadata": {},
   "outputs": [
    {
     "data": {
      "application/vnd.jupyter.widget-view+json": {
       "model_id": "200f1f08824742bd9eaa48568705e8fa",
       "version_major": 2,
       "version_minor": 0
      },
      "text/plain": [
       "Map(center=[23, 72], controls=(ZoomControl(options=['position', 'zoom_in_text', 'zoom_in_title', 'zoom_out_tex…"
      ]
     },
     "metadata": {},
     "output_type": "display_data"
    }
   ],
   "source": [
    "## The ipyleaflet also allows us to add a popup to various locations on the map. \n",
    "## We can create popup by using the Popup() constructor available from ipyleaflet.\n",
    "\n",
    "from ipywidgets import HTML\n",
    "\n",
    "m = Map(center=(23,72), zoom=7, basemap = basemaps.Stamen.Toner)\n",
    "\n",
    "for name, population, lon, lat in guj_districts_pop[[\"District\", \"Population in 2011\", \"Longitude\", \"Latitude\"]].values:\n",
    "    message = HTML(value=\"%s : %d\"%(name, population))\n",
    "    popup = Popup(location=(lat, lon), child=message, close_button=False, auto_close=False, close_on_escape_key=False)\n",
    "    m.add_layer(popup)\n",
    "\n",
    "m"
   ]
  },
  {
   "cell_type": "code",
   "execution_count": 20,
   "metadata": {},
   "outputs": [
    {
     "data": {
      "text/plain": [
       "ipyleaflet.leaflet.Popup"
      ]
     },
     "execution_count": 20,
     "metadata": {},
     "output_type": "execute_result"
    }
   ],
   "source": [
    "type(popup)"
   ]
  },
  {
   "cell_type": "code",
   "execution_count": 23,
   "metadata": {},
   "outputs": [
    {
     "data": {
      "text/plain": [
       "['AntPath',\n",
       " 'Any',\n",
       " 'AttributionControl',\n",
       " 'AwesomeIcon',\n",
       " 'Bool',\n",
       " 'Box',\n",
       " 'CFloat',\n",
       " 'CallbackDispatcher',\n",
       " 'Choropleth',\n",
       " 'Circle',\n",
       " 'CircleMarker',\n",
       " 'Color',\n",
       " 'ColorMap',\n",
       " 'Control',\n",
       " 'ControlException',\n",
       " 'DOMWidget',\n",
       " 'Dict',\n",
       " 'DrawControl',\n",
       " 'EXTENSION_VERSION',\n",
       " 'Enum',\n",
       " 'FeatureGroup',\n",
       " 'Float',\n",
       " 'FullScreenControl',\n",
       " 'GeoData',\n",
       " 'GeoJSON',\n",
       " 'Heatmap',\n",
       " 'Icon',\n",
       " 'ImageOverlay',\n",
       " 'Instance',\n",
       " 'InstanceDict',\n",
       " 'Int',\n",
       " 'InteractMixin',\n",
       " 'Layer',\n",
       " 'LayerException',\n",
       " 'LayerGroup',\n",
       " 'LayersControl',\n",
       " 'LegendControl',\n",
       " 'List',\n",
       " 'LocalTileLayer',\n",
       " 'Map',\n",
       " 'MapStyle',\n",
       " 'Marker',\n",
       " 'MarkerCluster',\n",
       " 'MeasureControl',\n",
       " 'Path',\n",
       " 'Polygon',\n",
       " 'Polyline',\n",
       " 'Popup',\n",
       " 'RasterLayer',\n",
       " 'Rectangle',\n",
       " 'ScaleControl',\n",
       " 'SearchControl',\n",
       " 'SplitMapControl',\n",
       " 'Style',\n",
       " 'TileLayer',\n",
       " 'TraitError',\n",
       " 'Tuple',\n",
       " 'UILayer',\n",
       " 'Unicode',\n",
       " 'Union',\n",
       " 'VectorLayer',\n",
       " 'VectorTileLayer',\n",
       " 'VideoOverlay',\n",
       " 'WMSLayer',\n",
       " 'Widget',\n",
       " 'WidgetControl',\n",
       " 'ZoomControl',\n",
       " '__builtins__',\n",
       " '__cached__',\n",
       " '__doc__',\n",
       " '__file__',\n",
       " '__loader__',\n",
       " '__name__',\n",
       " '__package__',\n",
       " '__spec__',\n",
       " 'allowed_cursor',\n",
       " 'basemap_to_tiles',\n",
       " 'copy',\n",
       " 'def_loc',\n",
       " 'default',\n",
       " 'embed_minimal_html',\n",
       " 'interactive',\n",
       " 'json',\n",
       " 'linear',\n",
       " 'link',\n",
       " 'observe',\n",
       " 'projections',\n",
       " 'validate',\n",
       " 'widget_serialization']"
      ]
     },
     "execution_count": 23,
     "metadata": {},
     "output_type": "execute_result"
    }
   ],
   "source": [
    "dir(leaflet)"
   ]
  },
  {
   "cell_type": "code",
   "execution_count": 24,
   "metadata": {},
   "outputs": [
    {
     "data": {
      "text/plain": [
       "['__class__',\n",
       " '__del__',\n",
       " '__delattr__',\n",
       " '__dict__',\n",
       " '__dir__',\n",
       " '__doc__',\n",
       " '__eq__',\n",
       " '__format__',\n",
       " '__ge__',\n",
       " '__getattribute__',\n",
       " '__getstate__',\n",
       " '__gt__',\n",
       " '__hash__',\n",
       " '__init__',\n",
       " '__init_subclass__',\n",
       " '__le__',\n",
       " '__lt__',\n",
       " '__module__',\n",
       " '__ne__',\n",
       " '__new__',\n",
       " '__reduce__',\n",
       " '__reduce_ex__',\n",
       " '__repr__',\n",
       " '__setattr__',\n",
       " '__setstate__',\n",
       " '__sizeof__',\n",
       " '__str__',\n",
       " '__subclasshook__',\n",
       " '__weakref__',\n",
       " '_add_notifiers',\n",
       " '_call_widget_constructed',\n",
       " '_click_callbacks',\n",
       " '_comm_changed',\n",
       " '_compare',\n",
       " '_dblclick_callbacks',\n",
       " '_default_keys',\n",
       " '_default_options',\n",
       " '_display_callbacks',\n",
       " '_gen_repr_from_keys',\n",
       " '_get_embed_state',\n",
       " '_get_trait_default_generator',\n",
       " '_handle_custom_msg',\n",
       " '_handle_displayed',\n",
       " '_handle_leaflet_event',\n",
       " '_handle_mouse_events',\n",
       " '_handle_msg',\n",
       " '_holding_sync',\n",
       " '_ipython_display_',\n",
       " '_is_numpy',\n",
       " '_lock_property',\n",
       " '_log_default',\n",
       " '_model_module',\n",
       " '_model_module_version',\n",
       " '_model_name',\n",
       " '_mousedown_callbacks',\n",
       " '_mouseout_callbacks',\n",
       " '_mouseover_callbacks',\n",
       " '_mouseup_callbacks',\n",
       " '_move_callbacks',\n",
       " '_msg_callbacks',\n",
       " '_notify_observers',\n",
       " '_notify_trait',\n",
       " '_property_lock',\n",
       " '_register_validator',\n",
       " '_remove_notifiers',\n",
       " '_repr_keys',\n",
       " '_send',\n",
       " '_should_send_property',\n",
       " '_states_to_send',\n",
       " '_trait_default_generators',\n",
       " '_trait_from_json',\n",
       " '_trait_to_json',\n",
       " '_view_count',\n",
       " '_view_module',\n",
       " '_view_module_version',\n",
       " '_view_name',\n",
       " '_widget_construction_callback',\n",
       " 'add_traits',\n",
       " 'alt',\n",
       " 'base',\n",
       " 'bottom',\n",
       " 'class_own_trait_events',\n",
       " 'class_own_traits',\n",
       " 'class_trait_names',\n",
       " 'class_traits',\n",
       " 'close',\n",
       " 'close_all',\n",
       " 'comm',\n",
       " 'cross_validation_lock',\n",
       " 'draggable',\n",
       " 'get_manager_state',\n",
       " 'get_state',\n",
       " 'get_view_spec',\n",
       " 'handle_comm_opened',\n",
       " 'has_trait',\n",
       " 'hold_sync',\n",
       " 'hold_trait_notifications',\n",
       " 'icon',\n",
       " 'interact',\n",
       " 'keyboard',\n",
       " 'keys',\n",
       " 'location',\n",
       " 'log',\n",
       " 'model_id',\n",
       " 'name',\n",
       " 'notify_change',\n",
       " 'observe',\n",
       " 'on_click',\n",
       " 'on_dblclick',\n",
       " 'on_displayed',\n",
       " 'on_mousedown',\n",
       " 'on_mouseout',\n",
       " 'on_mouseover',\n",
       " 'on_mouseup',\n",
       " 'on_move',\n",
       " 'on_msg',\n",
       " 'on_trait_change',\n",
       " 'on_widget_constructed',\n",
       " 'opacity',\n",
       " 'open',\n",
       " 'options',\n",
       " 'popup',\n",
       " 'popup_max_height',\n",
       " 'popup_max_width',\n",
       " 'popup_min_width',\n",
       " 'rise_offset',\n",
       " 'rise_on_hover',\n",
       " 'rotation_angle',\n",
       " 'rotation_origin',\n",
       " 'send',\n",
       " 'send_state',\n",
       " 'set_state',\n",
       " 'set_trait',\n",
       " 'setup_instance',\n",
       " 'title',\n",
       " 'trait_defaults',\n",
       " 'trait_events',\n",
       " 'trait_has_value',\n",
       " 'trait_metadata',\n",
       " 'trait_names',\n",
       " 'trait_values',\n",
       " 'traits',\n",
       " 'unobserve',\n",
       " 'unobserve_all',\n",
       " 'visible',\n",
       " 'widget_types',\n",
       " 'widgets',\n",
       " 'z_index_offset']"
      ]
     },
     "execution_count": 24,
     "metadata": {},
     "output_type": "execute_result"
    }
   ],
   "source": [
    "dir(Marker)"
   ]
  },
  {
   "cell_type": "code",
   "execution_count": 38,
   "metadata": {},
   "outputs": [],
   "source": [
    "def handle_marker_click( **kwargs):\n",
    "    print( kwargs)"
   ]
  },
  {
   "cell_type": "code",
   "execution_count": 39,
   "metadata": {},
   "outputs": [],
   "source": [
    "## We can also add a popup on top of markers by creating an object of ipywidgets.\n",
    "## HTML and then setting it as the popup attribute of the marker. \n",
    "## We have explained the usage of the same in the below example. \n",
    "## This popup will appear when someone clicks on a marker.\n",
    "\n",
    "m = Map(center=(23,72), zoom=7, basemap = basemaps.Stamen.Watercolor)\n",
    "\n",
    "for name, population, lon, lat in guj_districts_pop[[\"District\", \"Population in 2011\", \"Longitude\", \"Latitude\"]].values:\n",
    "    message = HTML(value=\"%s : %d\"%(name, population))\n",
    "    marker = Marker(location=(lat, lon))\n",
    "\n",
    "    marker.popup = message\n",
    "    \n",
    "    marker.on_click(handle_marker_click)\n",
    "\n",
    "    m.add_layer(marker)"
   ]
  },
  {
   "cell_type": "code",
   "execution_count": null,
   "metadata": {},
   "outputs": [],
   "source": []
  },
  {
   "cell_type": "code",
   "execution_count": 28,
   "metadata": {},
   "outputs": [
    {
     "data": {
      "application/vnd.jupyter.widget-view+json": {
       "model_id": "f214c93d903248738449f29f3777f75b",
       "version_major": 2,
       "version_minor": 0
      },
      "text/plain": [
       "Map(center=[23, 72], controls=(ZoomControl(options=['position', 'zoom_in_text', 'zoom_in_title', 'zoom_out_tex…"
      ]
     },
     "metadata": {},
     "output_type": "display_data"
    }
   ],
   "source": [
    "m"
   ]
  },
  {
   "cell_type": "code",
   "execution_count": 17,
   "metadata": {},
   "outputs": [],
   "source": [
    "## The ipyleaflet lets us add a circle of different sizes on maps as well. \n",
    "## We can create a circle by calling Circle() constructor passing it a location where \n",
    "## the circle needs to be created. We can also modify circle size by setting the \n",
    "## radius attribute of Circle().\n",
    "\n",
    "m = Map(center=(22,72), zoom=7, basemap = basemaps.CartoDB.Positron)\n",
    "\n",
    "for name, population, lon, lat in guj_districts_pop[[\"District\", \"Population in 2011\", \"Longitude\", \"Latitude\"]].values:\n",
    "    message = HTML(value=\"%s : %d\"%(name, population))\n",
    "    circle = Circle(location=(lat, lon), radius=population//100, color=\"dodgerblue\", fill_color=\"black\")\n",
    "\n",
    "    circle.popup = message\n",
    "\n",
    "    m.add_layer(circle)"
   ]
  },
  {
   "cell_type": "code",
   "execution_count": 18,
   "metadata": {},
   "outputs": [
    {
     "data": {
      "application/vnd.jupyter.widget-view+json": {
       "model_id": "9ef37edaeeb2477abfbf6f75fd4761b8",
       "version_major": 2,
       "version_minor": 0
      },
      "text/plain": [
       "Map(center=[22, 72], controls=(ZoomControl(options=['position', 'zoom_in_text', 'zoom_in_title', 'zoom_out_tex…"
      ]
     },
     "metadata": {},
     "output_type": "display_data"
    }
   ],
   "source": [
    "m"
   ]
  }
 ],
 "metadata": {
  "kernelspec": {
   "display_name": "Python 3",
   "language": "python",
   "name": "python3"
  },
  "language_info": {
   "codemirror_mode": {
    "name": "ipython",
    "version": 3
   },
   "file_extension": ".py",
   "mimetype": "text/x-python",
   "name": "python",
   "nbconvert_exporter": "python",
   "pygments_lexer": "ipython3",
   "version": "3.8.10"
  }
 },
 "nbformat": 4,
 "nbformat_minor": 4
}
