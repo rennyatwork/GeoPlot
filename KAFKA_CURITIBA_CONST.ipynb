{
 "cells": [
  {
   "cell_type": "code",
   "execution_count": 3,
   "metadata": {},
   "outputs": [],
   "source": [
    "import geopandas as gpd\n"
   ]
  },
  {
   "cell_type": "code",
   "execution_count": 4,
   "metadata": {},
   "outputs": [],
   "source": [
    "pathPrefix = \"/usr/local/Downloads/DataSets/Curitiba/\"\n",
    "pathBairros = \"DivisaBairros/\"\n",
    "pathEixoRuas =\"EixoRua/\"\n",
    "pathLotes = \"Lotes/\""
   ]
  },
  {
   "cell_type": "code",
   "execution_count": 5,
   "metadata": {},
   "outputs": [],
   "source": [
    "### bairros\n",
    "bairroFile=\"DIVISA_DE_BAIRROS\"\n",
    "bairroShp = bairroFile + \".shp\"\n",
    "#bairroShx = bairroFile +\".shx\"\n",
    "##bairroSbn = bairroFile +\".sbn\"\n",
    "##bairroSbx = bairroFile +\".sbx\"\n",
    "\n",
    "bairros = gpd.read_file(pathPrefix+pathBairros+bairroShp)\n",
    "#bairrosShx = gpd.read_file(pathPrefix+pathBairros+bairroShx)\n",
    "##bairrosSbn = gpd.read_file(pathPrefix+pathBairros+bairroSbn)\n",
    "##bairrosSbx = gpd.read_file(pathPrefix+pathBairros+bairroSbx)\n",
    "\n",
    "lotesFile=\"LOTES_201902\"\n",
    "lotesShp=lotesFile+\".shp\"\n",
    "lotes=gpd.read_file(pathPrefix+pathLotes+lotesShp)"
   ]
  },
  {
   "cell_type": "code",
   "execution_count": 6,
   "metadata": {},
   "outputs": [],
   "source": [
    "### eixo ruas\n",
    "ruasShp = \"EIXO_RUA.shp\"\n",
    "ruas = gpd.read_file(pathPrefix+pathEixoRuas+ruasShp)"
   ]
  },
  {
   "cell_type": "code",
   "execution_count": null,
   "metadata": {},
   "outputs": [],
   "source": []
  }
 ],
 "metadata": {
  "kernelspec": {
   "display_name": "Python 3",
   "language": "python",
   "name": "python3"
  },
  "language_info": {
   "codemirror_mode": {
    "name": "ipython",
    "version": 3
   },
   "file_extension": ".py",
   "mimetype": "text/x-python",
   "name": "python",
   "nbconvert_exporter": "python",
   "pygments_lexer": "ipython3",
   "version": "3.8.10"
  }
 },
 "nbformat": 4,
 "nbformat_minor": 4
}
