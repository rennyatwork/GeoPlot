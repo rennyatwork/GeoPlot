{
 "cells": [
  {
   "cell_type": "code",
   "execution_count": 1,
   "metadata": {},
   "outputs": [],
   "source": [
    "%run KAFKA_CONST.ipynb"
   ]
  },
  {
   "cell_type": "code",
   "execution_count": 2,
   "metadata": {},
   "outputs": [],
   "source": [
    "from datetime import datetime"
   ]
  },
  {
   "cell_type": "code",
   "execution_count": 3,
   "metadata": {},
   "outputs": [],
   "source": [
    "from kafka import KafkaConsumer\n",
    "consumer = KafkaConsumer(kafkaTopic\n",
    "                         , group_id='group_01'\n",
    "                         , bootstrap_servers=bootstrap_servers\n",
    "                         , auto_offset_reset='earliest'\n",
    "                         , value_deserializer=lambda m: json.loads(m.decode('utf-8'))\n",
    "                        )"
   ]
  },
  {
   "cell_type": "code",
   "execution_count": 4,
   "metadata": {},
   "outputs": [
    {
     "data": {
      "text/plain": [
       "<kafka.consumer.group.KafkaConsumer at 0x7fd4b04186a0>"
      ]
     },
     "execution_count": 4,
     "metadata": {},
     "output_type": "execute_result"
    }
   ],
   "source": [
    "consumer"
   ]
  },
  {
   "cell_type": "code",
   "execution_count": null,
   "metadata": {},
   "outputs": [
    {
     "name": "stdout",
     "output_type": "stream",
     "text": [
      "datetime:  2021-10-29 21:11:41.873000\n",
      "latitude:  -25.502474677473746\n",
      "longitude:  -49.27287697792054\n",
      "datetime:  2021-10-29 21:11:44.952000\n",
      "latitude:  -25.48543052604354\n",
      "longitude:  -49.279743432998664\n",
      "datetime:  2021-10-29 21:12:23.515000\n",
      "latitude:  -25.44528975304714\n",
      "longitude:  -49.26280796527863\n",
      "datetime:  2021-10-29 21:14:24.691000\n",
      "latitude:  -25.437732801405353\n",
      "longitude:  -49.261221438646324\n",
      "datetime:  2021-10-29 21:14:45.042000\n",
      "latitude:  -25.431996952400052\n",
      "longitude:  -49.262423068285\n",
      "datetime:  2021-10-29 21:15:05.874000\n",
      "latitude:  -25.431570628395974\n",
      "longitude:  -49.26113560795785\n",
      "datetime:  2021-10-29 23:59:56.115000\n",
      "latitude:  -25.43188068236672\n",
      "longitude:  -49.26100686192513\n",
      "datetime:  2021-10-30 00:00:38.871000\n",
      "latitude:  -25.43602757752396\n",
      "longitude:  -49.26139310002328\n",
      "datetime:  2021-10-31 22:06:48.861000\n",
      "latitude:  -25.433702233331996\n",
      "longitude:  -49.264704957604415\n",
      "datetime:  2021-10-31 22:07:06.919000\n",
      "latitude:  -25.430369161723576\n",
      "longitude:  -49.26380373537541\n",
      "datetime:  2021-10-31 22:08:49.225000\n",
      "latitude:  -25.433004621322493\n",
      "longitude:  -49.26180817186833\n",
      "datetime:  2021-10-31 22:34:49.445000\n",
      "latitude:  -25.425601933964316\n",
      "longitude:  -49.25494104623795\n",
      "datetime:  2021-10-31 22:35:06.926000\n",
      "latitude:  -25.42319886962708\n",
      "longitude:  -49.25674349069596\n"
     ]
    }
   ],
   "source": [
    "consumer.subscribe(topics=kafkaTopic)\n",
    "for message in consumer:\n",
    "    #print (\"[message]: \", message)\n",
    "    #print (\"[message.value]: \", message.value)\n",
    "    #print (\"[message.value['message']]: \", message.value['message'])\n",
    "    #print (\"[message.value['message']['coordinates']]: \", message.value['message']['coordinates'])\n",
    "    #print(\"type([message.value['message']['coordinates']])\", type([message.value['message']['coordinates']]))\n",
    "    ##print(\"x: \", type([message.value['message']['coordinates']][0]))\n",
    "    l1 = [message.value['message']['coordinates']][0]\n",
    "    #print(len(l1))\n",
    "    #print(\"x: \", l1[0])\n",
    "    #print(\"y: \", l1[1])\n",
    "    print(\"datetime: \", datetime.fromtimestamp(message.timestamp/1000))\n",
    "    loc = Location (l1[0], l1[1])\n",
    "    loc.printLoc()\n",
    "    #print(\"y: \", type([message.value['message']['coordinates']][1]))\n",
    "    ##print (\"[message.topic]: \", message.topic)\n",
    "    ##print (\"[message.partition]: \", message.partition)\n",
    "    ##print (\"[message.offset]: \", message.offset)\n",
    "    consumer.commit_async()\n",
    "#consumer.commitSync()"
   ]
  },
  {
   "cell_type": "code",
   "execution_count": null,
   "metadata": {},
   "outputs": [],
   "source": []
  }
 ],
 "metadata": {
  "kernelspec": {
   "display_name": "Python 3",
   "language": "python",
   "name": "python3"
  },
  "language_info": {
   "codemirror_mode": {
    "name": "ipython",
    "version": 3
   },
   "file_extension": ".py",
   "mimetype": "text/x-python",
   "name": "python",
   "nbconvert_exporter": "python",
   "pygments_lexer": "ipython3",
   "version": "3.8.10"
  }
 },
 "nbformat": 4,
 "nbformat_minor": 4
}
