{
 "cells": [
  {
   "cell_type": "code",
   "execution_count": 1,
   "metadata": {},
   "outputs": [],
   "source": [
    "## instaling pandasql\n",
    "## https://towardsdatascience.com/how-to-use-sql-in-pandas-62d8a0f6341\n",
    "\n",
    "import sys\n",
    "#!{sys.executable} -m pip install kafka-python"
   ]
  },
  {
   "cell_type": "code",
   "execution_count": 2,
   "metadata": {},
   "outputs": [],
   "source": [
    "import geopandas as gpd"
   ]
  },
  {
   "cell_type": "code",
   "execution_count": 3,
   "metadata": {},
   "outputs": [],
   "source": [
    "pathPrefix = \"/usr/local/Downloads/DataSets/Curitiba/\"\n",
    "pathBairros = \"DivisaBairros/\"\n",
    "pathEixoRuas =\"EixoRua/\"\n",
    "pathLotes = \"Lotes/\""
   ]
  },
  {
   "cell_type": "code",
   "execution_count": 4,
   "metadata": {},
   "outputs": [],
   "source": [
    "### bairros\n",
    "bairroFile=\"DIVISA_DE_BAIRROS\"\n",
    "bairroShp = bairroFile + \".shp\"\n",
    "#bairroShx = bairroFile +\".shx\"\n",
    "##bairroSbn = bairroFile +\".sbn\"\n",
    "##bairroSbx = bairroFile +\".sbx\"\n",
    "\n",
    "bairros = gpd.read_file(pathPrefix+pathBairros+bairroShp)\n",
    "#bairrosShx = gpd.read_file(pathPrefix+pathBairros+bairroShx)\n",
    "##bairrosSbn = gpd.read_file(pathPrefix+pathBairros+bairroSbn)\n",
    "##bairrosSbx = gpd.read_file(pathPrefix+pathBairros+bairroSbx)\n",
    "\n",
    "lotesFile=\"LOTES_201902\"\n",
    "lotesShp=lotesFile+\".shp\"\n",
    "lotes=gpd.read_file(pathPrefix+pathLotes+lotesShp)"
   ]
  },
  {
   "cell_type": "code",
   "execution_count": 5,
   "metadata": {},
   "outputs": [],
   "source": [
    "### eixo ruas\n",
    "ruasShp = \"EIXO_RUA.shp\"\n",
    "ruas = gpd.read_file(pathPrefix+pathEixoRuas+ruasShp)"
   ]
  },
  {
   "cell_type": "code",
   "execution_count": 6,
   "metadata": {},
   "outputs": [
    {
     "data": {
      "text/plain": [
       "geopandas.geodataframe.GeoDataFrame"
      ]
     },
     "execution_count": 6,
     "metadata": {},
     "output_type": "execute_result"
    }
   ],
   "source": [
    "type(bairros)"
   ]
  },
  {
   "cell_type": "code",
   "execution_count": null,
   "metadata": {},
   "outputs": [],
   "source": [
    "bairros.head(3)"
   ]
  },
  {
   "cell_type": "code",
   "execution_count": null,
   "metadata": {},
   "outputs": [],
   "source": [
    "# coord ref system\n",
    "print(bairros.crs)\n",
    "print(ruas.crs)\n",
    "print(lotes.crs)"
   ]
  },
  {
   "cell_type": "code",
   "execution_count": null,
   "metadata": {},
   "outputs": [],
   "source": [
    "bairros.crs\n"
   ]
  },
  {
   "cell_type": "code",
   "execution_count": null,
   "metadata": {},
   "outputs": [],
   "source": [
    "### create the plot\n",
    "fig, ax = plt.subplots()\n",
    "\n",
    "# add dataframes to the plot\n",
    "bairros.plot(cmap='plasma', ax=ax, alpha=.5)\n",
    "plt.show()"
   ]
  },
  {
   "cell_type": "code",
   "execution_count": null,
   "metadata": {},
   "outputs": [],
   "source": [
    "fig, ax = plt.subplots()\n",
    "ruas.plot(cmap='YlOrBr', ax=ax, alpha=.5)\n",
    "##ax.set(xlim=[-57, -34], ylim=[-50, 9])"
   ]
  },
  {
   "cell_type": "code",
   "execution_count": null,
   "metadata": {},
   "outputs": [],
   "source": [
    "plt.show()"
   ]
  },
  {
   "cell_type": "code",
   "execution_count": null,
   "metadata": {},
   "outputs": [],
   "source": [
    "fig, ax = plt.subplots()\n",
    "lotes.plot(cmap='plasma', ax=ax, alpha=.5)samplesample"
   ]
  },
  {
   "cell_type": "code",
   "execution_count": null,
   "metadata": {},
   "outputs": [],
   "source": [
    "plt.show()"
   ]
  },
  {
   "cell_type": "code",
   "execution_count": 8,
   "metadata": {},
   "outputs": [
    {
     "data": {
      "text/plain": [
       "'1.1.1'"
      ]
     },
     "execution_count": 8,
     "metadata": {},
     "output_type": "execute_result"
    }
   ],
   "source": [
    "from ipyleaflet import Map, Marker, Polyline\n",
    "import osmnx as ox\n",
    "## https://github.com/gboeing/osmnx-examples/blob/main/notebooks/01-overview-osmnx.ipynb\n",
    "%matplotlib inline\n",
    "ox.__version__"
   ]
  },
  {
   "cell_type": "code",
   "execution_count": 9,
   "metadata": {},
   "outputs": [],
   "source": [
    "curitiba = ox.geocode_to_gdf(\"Curitiba\")"
   ]
  },
  {
   "cell_type": "code",
   "execution_count": 10,
   "metadata": {},
   "outputs": [
    {
     "data": {
      "text/plain": [
       "geopandas.geodataframe.GeoDataFrame"
      ]
     },
     "execution_count": 10,
     "metadata": {},
     "output_type": "execute_result"
    }
   ],
   "source": [
    "type(curitiba)\n",
    "\n"
   ]
  },
  {
   "cell_type": "code",
   "execution_count": null,
   "metadata": {},
   "outputs": [],
   "source": [
    "curitiba.lat[0]"
   ]
  },
  {
   "cell_type": "code",
   "execution_count": null,
   "metadata": {},
   "outputs": [],
   "source": [
    "curitiba.lon[0]"
   ]
  },
  {
   "cell_type": "code",
   "execution_count": 11,
   "metadata": {},
   "outputs": [],
   "source": [
    "#https://ipyleaflet.readthedocs.io/en/latest/api_reference/marker.html\n",
    "class Location:\n",
    "    def __init__(self, pLat=36.3, pLong=137.97):\n",
    "        self.latitude =pLat\n",
    "        self.longitude=pLong"
   ]
  },
  {
   "cell_type": "code",
   "execution_count": 12,
   "metadata": {},
   "outputs": [],
   "source": [
    "locCuritiba = Location(curitiba.lat[0], curitiba.lon[0])"
   ]
  },
  {
   "cell_type": "code",
   "execution_count": null,
   "metadata": {},
   "outputs": [],
   "source": [
    "locCuritiba"
   ]
  },
  {
   "cell_type": "code",
   "execution_count": null,
   "metadata": {},
   "outputs": [],
   "source": [
    "loc = locCuritiba\n",
    "center = (loc.latitude, loc.longitude)\n",
    "\n",
    "m = Map(center=center, zoom=15)\n",
    "\n",
    "marker = Marker(location=center, draggable=True)\n",
    "m.add_layer(marker);\n",
    "\n",
    "display(m)\n",
    "\n",
    "# Now that the marker is on the Map, you can drag it with your mouse,\n",
    "# it will automatically update the `marker.location` attribute in Python\n",
    "\n",
    "# You can also update the marker location from Python, that will update the\n",
    "# marker location on the Map:\n",
    "marker.location = (loc.latitude, loc.longitude)"
   ]
  },
  {
   "cell_type": "code",
   "execution_count": null,
   "metadata": {},
   "outputs": [],
   "source": []
  },
  {
   "cell_type": "code",
   "execution_count": null,
   "metadata": {},
   "outputs": [],
   "source": [
    "ax = bairros.plot(fc=\"gray\", ec=\"none\")"
   ]
  },
  {
   "cell_type": "code",
   "execution_count": null,
   "metadata": {},
   "outputs": [],
   "source": [
    "ruas.plot()"
   ]
  },
  {
   "cell_type": "code",
   "execution_count": null,
   "metadata": {},
   "outputs": [],
   "source": [
    "type(ax)"
   ]
  },
  {
   "cell_type": "code",
   "execution_count": null,
   "metadata": {},
   "outputs": [],
   "source": [
    "lotes.plot(ax=ax)"
   ]
  },
  {
   "cell_type": "code",
   "execution_count": null,
   "metadata": {},
   "outputs": [],
   "source": [
    "type(plt)"
   ]
  },
  {
   "cell_type": "code",
   "execution_count": null,
   "metadata": {},
   "outputs": [],
   "source": [
    "fig, ax = plt.subplots(figsize=(10,10))\n",
    "lotes.plot(ax=ax)\n"
   ]
  },
  {
   "cell_type": "code",
   "execution_count": null,
   "metadata": {},
   "outputs": [],
   "source": [
    "bairros.plot()"
   ]
  },
  {
   "cell_type": "code",
   "execution_count": null,
   "metadata": {},
   "outputs": [],
   "source": [
    "plt.show()"
   ]
  },
  {
   "cell_type": "code",
   "execution_count": null,
   "metadata": {},
   "outputs": [],
   "source": [
    "import folium\n",
    "import matplotlib.pyplot as plt"
   ]
  },
  {
   "cell_type": "code",
   "execution_count": null,
   "metadata": {},
   "outputs": [],
   "source": [
    "curitiba.lat[0]"
   ]
  },
  {
   "cell_type": "code",
   "execution_count": null,
   "metadata": {},
   "outputs": [],
   "source": [
    "m = folium.Map(location=[curitiba.lat[0], curitiba.lon[0]], zoom_start=10\n",
    ", tiles='CartoDB positron')\n",
    "m"
   ]
  },
  {
   "cell_type": "code",
   "execution_count": 13,
   "metadata": {},
   "outputs": [],
   "source": [
    "#ax = curitiba.plot(facecolor='black')\n",
    "## restaurants\n",
    "## https://automating-gis-processes.github.io/CSC/notebooks/L3/retrieve_osm_data.html\n",
    "amenities = ox.geometries.geometries_from_address(\"Curitiba\", tags={'amenity':True}, dist=1000)\n"
   ]
  },
  {
   "cell_type": "code",
   "execution_count": null,
   "metadata": {},
   "outputs": [],
   "source": [
    "type(amenities)"
   ]
  },
  {
   "cell_type": "code",
   "execution_count": null,
   "metadata": {},
   "outputs": [],
   "source": [
    "amenities.head(3)"
   ]
  },
  {
   "cell_type": "code",
   "execution_count": null,
   "metadata": {},
   "outputs": [],
   "source": [
    "ax = curitiba.plot(facecolor='black')"
   ]
  },
  {
   "cell_type": "code",
   "execution_count": null,
   "metadata": {},
   "outputs": [],
   "source": [
    "type(ax)"
   ]
  },
  {
   "cell_type": "code",
   "execution_count": null,
   "metadata": {},
   "outputs": [],
   "source": [
    "# Plot restaurants\n",
    "amenities.plot(ax=ax, color='green', alpha=0.7, markersize=6)\n",
    "plt.tight_layout()"
   ]
  },
  {
   "cell_type": "code",
   "execution_count": null,
   "metadata": {},
   "outputs": [],
   "source": [
    "plt"
   ]
  },
  {
   "cell_type": "code",
   "execution_count": null,
   "metadata": {},
   "outputs": [],
   "source": [
    "len(lotes)"
   ]
  },
  {
   "cell_type": "code",
   "execution_count": null,
   "metadata": {},
   "outputs": [],
   "source": [
    "lotes.head(3)"
   ]
  },
  {
   "cell_type": "code",
   "execution_count": null,
   "metadata": {},
   "outputs": [],
   "source": [
    "bairros.head(3)"
   ]
  },
  {
   "cell_type": "code",
   "execution_count": null,
   "metadata": {},
   "outputs": [],
   "source": [
    "ruas.head(3)"
   ]
  },
  {
   "cell_type": "code",
   "execution_count": 14,
   "metadata": {},
   "outputs": [
    {
     "name": "stderr",
     "output_type": "stream",
     "text": [
      "/usr/local/lib/python3.8/dist-packages/ipykernel/ipkernel.py:287: DeprecationWarning: `should_run_async` will not call `transform_cell` automatically in the future. Please pass the result to `transformed_cell` argument and any exception that happen during thetransform in `preprocessing_exc_tuple` in IPython 7.17 and above.\n",
      "  and should_run_async(code)\n"
     ]
    },
    {
     "data": {
      "application/vnd.jupyter.widget-view+json": {
       "model_id": "6a2c54a658ba45a1820f57ccb432bd49",
       "version_major": 2,
       "version_minor": 0
      },
      "text/plain": [
       "Map(center=[-25.496081949999997, -49.28434174099833], controls=(ZoomControl(options=['position', 'zoom_in_text…"
      ]
     },
     "metadata": {},
     "output_type": "display_data"
    }
   ],
   "source": [
    "### https://medium.com/swlh/how-to-use-mouse-events-on-ipyleaflet-4d002097efc0\n",
    "### How to Use Mouse Events on Ipyleaflet\n",
    "m=None\n",
    "from ipyleaflet import *\n",
    "center = (curitiba.lat[0], curitiba.lon[0])\n",
    "m = Map(center=center)\n",
    "m"
   ]
  },
  {
   "cell_type": "code",
   "execution_count": 15,
   "metadata": {},
   "outputs": [],
   "source": [
    "# Create a geodata\n",
    "geodata = GeoData(geo_dataframe = bairros, \n",
    " style={'color': 'black', 'fillColor': '#E0D071'\n",
    "        , 'opacity':0.03, 'weight':1.9\n",
    "        , 'dashArray':'2'\n",
    "        , 'fillOpacity':0.6},\n",
    " hover_style={'fillColor': '#b08a3e' , 'fillOpacity': 0.8},\n",
    " name = 'amenities_layer')"
   ]
  },
  {
   "cell_type": "code",
   "execution_count": 16,
   "metadata": {},
   "outputs": [
    {
     "name": "stderr",
     "output_type": "stream",
     "text": [
      "/usr/local/lib/python3.8/dist-packages/ipykernel/ipkernel.py:287: DeprecationWarning: `should_run_async` will not call `transform_cell` automatically in the future. Please pass the result to `transformed_cell` argument and any exception that happen during thetransform in `preprocessing_exc_tuple` in IPython 7.17 and above.\n",
      "  and should_run_async(code)\n"
     ]
    }
   ],
   "source": [
    "from ipywidgets import Text, HTML\n",
    "import json\n",
    "html = HTML(\"Hover Over Bairros\")\n",
    "html.layout.margin = '0px 20px 20px 20px'\n",
    "control = WidgetControl(widget=html, position='topright')\n",
    "m.add_control(control)\n",
    "def update_html(feature, **kwargs):\n",
    "    print(\"feature\", feature)\n",
    "    ## print(\"feature['properties']['name']: \", feature['properties']['name'])\n",
    "    ## print(kwargs)\n",
    "    ## html.value = \"\"\"\n",
    "    ## <h3><b>{}</b></h3>\n",
    "    ## <h4>GDP: {:.2e} people</h4> \n",
    "    ## <h4>Population: {}</h4>\n",
    "    ##  \"\"\" .format(feature['properties']['name'],\n",
    "    ##    feature['properties']['gdp_md_est'],\n",
    "    ##    feature['properties']['pop_est'])\n",
    "    \n",
    "#geodata.on_hover(update_html)\n",
    "geodata.on_click(update_html)"
   ]
  },
  {
   "cell_type": "code",
   "execution_count": 17,
   "metadata": {},
   "outputs": [],
   "source": [
    "m.add_layer(geodata)"
   ]
  },
  {
   "cell_type": "code",
   "execution_count": null,
   "metadata": {},
   "outputs": [],
   "source": [
    "### 'https://nominatim.openstreetmap.org/search?format=json&limit=1&dedupe=0&q='\n",
    "search = SearchControl(position='topleft', \n",
    " url=\n",
    "'https://nominatim.openstreetmap.org/search?format=json&q={s}', \n",
    " zoom=5,\n",
    " property_name='display_name',\n",
    " marker=marker\n",
    " )\n",
    "m.add_control(search)"
   ]
  },
  {
   "cell_type": "code",
   "execution_count": null,
   "metadata": {},
   "outputs": [],
   "source": [
    "len(amenities)"
   ]
  },
  {
   "cell_type": "code",
   "execution_count": null,
   "metadata": {},
   "outputs": [],
   "source": [
    "amenities.head(3)"
   ]
  },
  {
   "cell_type": "code",
   "execution_count": 18,
   "metadata": {},
   "outputs": [],
   "source": [
    "### adding layer\n",
    "amenities_geoData = GeoData(geo_dataframe = amenities,\n",
    "    style={'color':'black', 'opacity':0.07}\n",
    "    , hover_style={'fillColor':'red', 'fillOpacity':0.1, 'title':'xxx'}\n",
    "    , name='name') \n",
    "m.add_layer(amenities_geoData)"
   ]
  },
  {
   "cell_type": "code",
   "execution_count": 19,
   "metadata": {},
   "outputs": [
    {
     "data": {
      "application/vnd.jupyter.widget-view+json": {
       "model_id": "89861ac9e5134d999324bd17e3731cb6",
       "version_major": 2,
       "version_minor": 0
      },
      "text/plain": [
       "GeoData(data={'type': 'FeatureCollection', 'features': [{'id': \"('node', 564213958)\", 'type': 'Feature', 'prop…"
      ]
     },
     "metadata": {},
     "output_type": "display_data"
    }
   ],
   "source": [
    "amenities_geoData"
   ]
  },
  {
   "cell_type": "code",
   "execution_count": 20,
   "metadata": {},
   "outputs": [
    {
     "data": {
      "text/plain": [
       "ipyleaflet.leaflet.GeoData"
      ]
     },
     "execution_count": 20,
     "metadata": {},
     "output_type": "execute_result"
    }
   ],
   "source": [
    "type(amenities_geoData)"
   ]
  },
  {
   "cell_type": "code",
   "execution_count": null,
   "metadata": {},
   "outputs": [],
   "source": [
    "ipyleaflet.leaflet.GeoData.data"
   ]
  },
  {
   "cell_type": "code",
   "execution_count": null,
   "metadata": {},
   "outputs": [],
   "source": [
    "dir(amenities_geoData)"
   ]
  },
  {
   "cell_type": "code",
   "execution_count": null,
   "metadata": {},
   "outputs": [],
   "source": [
    "dir(amenities_geoData.geo_dataframe)"
   ]
  },
  {
   "cell_type": "code",
   "execution_count": null,
   "metadata": {},
   "outputs": [],
   "source": [
    "amenities_geoData.base"
   ]
  },
  {
   "cell_type": "code",
   "execution_count": null,
   "metadata": {},
   "outputs": [],
   "source": [
    "type(amenities_geoData.data)"
   ]
  },
  {
   "cell_type": "code",
   "execution_count": null,
   "metadata": {},
   "outputs": [],
   "source": [
    "amenities_geoData.data.keys()"
   ]
  },
  {
   "cell_type": "code",
   "execution_count": null,
   "metadata": {},
   "outputs": [],
   "source": [
    "type(amenities_geoData.data['features'])"
   ]
  },
  {
   "cell_type": "code",
   "execution_count": null,
   "metadata": {},
   "outputs": [],
   "source": [
    "dir(amenities_geoData.data['features'])"
   ]
  },
  {
   "cell_type": "code",
   "execution_count": null,
   "metadata": {},
   "outputs": [],
   "source": [
    "amenities_geoData.name"
   ]
  },
  {
   "cell_type": "code",
   "execution_count": null,
   "metadata": {},
   "outputs": [],
   "source": [
    "amenities_geoData.data.keys()"
   ]
  },
  {
   "cell_type": "code",
   "execution_count": null,
   "metadata": {},
   "outputs": [],
   "source": [
    "len(amenities_geoData.data['features'])"
   ]
  },
  {
   "cell_type": "code",
   "execution_count": null,
   "metadata": {},
   "outputs": [],
   "source": [
    "type(amenities_geoData.data['features'][0])"
   ]
  },
  {
   "cell_type": "code",
   "execution_count": null,
   "metadata": {},
   "outputs": [],
   "source": [
    "amenities_geoData.data['features'][0]"
   ]
  },
  {
   "cell_type": "code",
   "execution_count": null,
   "metadata": {},
   "outputs": [],
   "source": [
    "amenities_geoData.data['features'][0]['properties']"
   ]
  },
  {
   "cell_type": "code",
   "execution_count": null,
   "metadata": {},
   "outputs": [],
   "source": [
    "amenities_geoData.data['features'][0]['geometry']"
   ]
  },
  {
   "cell_type": "code",
   "execution_count": null,
   "metadata": {},
   "outputs": [],
   "source": [
    "amenities_geoData.data['features'][0].keys()"
   ]
  },
  {
   "cell_type": "code",
   "execution_count": 21,
   "metadata": {},
   "outputs": [
    {
     "name": "stdout",
     "output_type": "stream",
     "text": [
      "[amenity]: university [official_name]:  [name]:  FAE Business School [contact:website]:  None [contact:whatsapp]: None [geometry]: {'type': 'Point', 'coordinates': [-49.2735142, -25.4383131]}\n",
      "[amenity]: university [official_name]:  [name]:  Uninter [contact:website]:  None [contact:whatsapp]: None [geometry]: {'type': 'Point', 'coordinates': [-49.2746898, -25.4327787]}\n",
      "[amenity]: university [official_name]:  [name]:  Universidade Federal do Paraná Prédio Histórico [contact:website]:  None [contact:whatsapp]: None [geometry]: {'type': 'Polygon', 'coordinates': [[[-49.2680224, -25.4288347], [-49.2678187, -25.4287542], [-49.2677097, -25.4287112], [-49.2676142, -25.4286734], [-49.2675961, -25.4287109], [-49.2675777, -25.4287037], [-49.2675122, -25.4288388], [-49.2675306, -25.4288461], [-49.2675161, -25.428876], [-49.2675154, -25.4288774], [-49.2674971, -25.4288701], [-49.2674428, -25.4288487], [-49.2673154, -25.4291116], [-49.2673718, -25.4291339], [-49.2674182, -25.4291522], [-49.267412, -25.4291651], [-49.2673838, -25.4291539], [-49.267366, -25.4291908], [-49.2673477, -25.4291836], [-49.2672816, -25.4293201], [-49.2672998, -25.4293273], [-49.2672844, -25.4293593], [-49.267362, -25.42939], [-49.2675104, -25.4294486], [-49.2676906, -25.4295198], [-49.2678063, -25.4292808], [-49.2680224, -25.4288347]]]}\n",
      "[amenity]: university [official_name]:  [name]:  UFPR Campus Rebouças [contact:website]:  None [contact:whatsapp]: None [geometry]: {'type': 'Polygon', 'coordinates': [[[-49.2648073, -25.4380479], [-49.2632319, -25.4374204], [-49.2635033, -25.4368242], [-49.2635779, -25.436856], [-49.2635938, -25.4368248], [-49.2636156, -25.4367822], [-49.2636367, -25.4367407], [-49.263683, -25.4366498], [-49.2641374, -25.4368211], [-49.2650295, -25.4371575], [-49.2648931, -25.4372242], [-49.2648603, -25.4372671], [-49.2648093, -25.4373514], [-49.2647672, -25.4374494], [-49.264739, -25.4375149], [-49.264708, -25.4377], [-49.2647054, -25.4378739], [-49.2648073, -25.4380479]]]}\n",
      "[amenity]: university [official_name]:  [name]:  Faculdade Vicentina [contact:website]:  None [contact:whatsapp]: None [geometry]: {'type': 'Polygon', 'coordinates': [[[-49.2789647, -25.4249284], [-49.2787614, -25.4251083], [-49.2786811, -25.4251794], [-49.2785683, -25.4252792], [-49.2784841, -25.4253537], [-49.278619, -25.4254665], [-49.2786287, -25.4254746], [-49.2793481, -25.4257749], [-49.2794332, -25.4256042], [-49.2796221, -25.4254811], [-49.279492, -25.4252937], [-49.2793627, -25.4251076], [-49.2792623, -25.4251734], [-49.2791224, -25.4250795], [-49.2791213, -25.4250818], [-49.2789647, -25.4249284]]]}\n",
      "[amenity]: university [official_name]:  [name]:  Universidade Tecnológica Federal do Paraná - Campus Curitiba - Sede Centro [contact:website]:  None [contact:whatsapp]: None [geometry]: {'type': 'Polygon', 'coordinates': [[[-49.2684219, -25.4384634], [-49.2678316, -25.4397277], [-49.2692718, -25.4402599], [-49.2698495, -25.439007], [-49.2684219, -25.4384634]]]}\n",
      "[amenity]: university [official_name]:  [name]:  Universidade Federal do Paraná Campus Reitoria [contact:website]:  None [contact:whatsapp]: None [geometry]: {'type': 'Polygon', 'coordinates': [[[-49.2624296, -25.4266908], [-49.2623429, -25.4268741], [-49.2621414, -25.4272998], [-49.2621006, -25.4273862], [-49.2620384, -25.4273618], [-49.2615418, -25.4271666], [-49.2613169, -25.4270777], [-49.261653, -25.426384], [-49.2618247, -25.4264518], [-49.2620347, -25.4265348], [-49.2622844, -25.4266334], [-49.2624296, -25.4266908]]]}\n",
      "[amenity]: university [official_name]:  [name]:  Colégio [contact:website]:  None [contact:whatsapp]: None [geometry]: {'type': 'Polygon', 'coordinates': [[[-49.2694445, -25.42529], [-49.2688732, -25.425259], [-49.2689434, -25.4247754], [-49.2689482, -25.4247575], [-49.2689571, -25.4247383], [-49.2689748, -25.4247271], [-49.2689944, -25.4247218], [-49.2690113, -25.4247215], [-49.2690261, -25.4247239], [-49.2693999, -25.4249905], [-49.2694302, -25.4251894], [-49.2694445, -25.42529]]]}\n",
      "[amenity]: university [official_name]:  [name]:  Unicesumar [contact:website]:  None [contact:whatsapp]: None [geometry]: {'type': 'Polygon', 'coordinates': [[[-49.2748692, -25.4375965], [-49.2749815, -25.4373797], [-49.2750923, -25.4374272], [-49.274985, -25.4376442], [-49.2748692, -25.4375965]]]}\n",
      "[amenity]: university [official_name]:  [name]:  None [contact:website]:  None [contact:whatsapp]: None [geometry]: {'type': 'Polygon', 'coordinates': [[[-49.2769378, -25.4300295], [-49.2771272, -25.4300906], [-49.2771701, -25.4299989], [-49.2769773, -25.4299368], [-49.2769378, -25.4300295]]]}\n",
      "[amenity]: university [official_name]:  [name]:  Uninter - Campus Divina [contact:website]:  None [contact:whatsapp]: None [geometry]: {'type': 'Polygon', 'coordinates': [[[-49.2741273, -25.4281746], [-49.2738972, -25.4280898], [-49.2736423, -25.4279958], [-49.2734841, -25.4279375], [-49.2734529, -25.4280065], [-49.2733893, -25.4281731], [-49.2733737, -25.4282083], [-49.2733341, -25.428306], [-49.2732982, -25.4283849], [-49.2736703, -25.4285229], [-49.2737861, -25.4285228], [-49.2739984, -25.4284614], [-49.2741273, -25.4281746]]]}\n"
     ]
    },
    {
     "data": {
      "text/plain": [
       "[None, None, None, None, None, None, None, None, None, None, None]"
      ]
     },
     "execution_count": 21,
     "metadata": {},
     "output_type": "execute_result"
    }
   ],
   "source": [
    "[print(\"[amenity]:\",  x['properties']['amenity']\n",
    "      ,\"[official_name]: \"\n",
    "       #, x['properties']['official_name']\n",
    "      , \"[name]: \", x['properties']['name']\n",
    "       , \"[contact:website]: \", x['properties']['contact:website']\n",
    "       , \"[contact:whatsapp]:\", x['properties']['contact:whatsapp']\n",
    "       , \"[geometry]:\", x['geometry']\n",
    "      #,'[x]: ', x['properties']\n",
    "      ) \n",
    " for x in amenities_geoData.data['features'] if x['properties']['amenity'] == 'university']\n",
    "\n"
   ]
  },
  {
   "cell_type": "code",
   "execution_count": 22,
   "metadata": {},
   "outputs": [
    {
     "data": {
      "text/plain": [
       "list"
      ]
     },
     "execution_count": 22,
     "metadata": {},
     "output_type": "execute_result"
    }
   ],
   "source": [
    "type(amenities_geoData.data['features'])"
   ]
  },
  {
   "cell_type": "code",
   "execution_count": 23,
   "metadata": {},
   "outputs": [],
   "source": [
    "from ipywidgets import Text, HTML\n",
    "html = HTML(\"Hover Over\")\n",
    "html.layout.margin = \"0px 20px 20px 20px\"\n",
    "control = WidgetControl(widget=html, position=\"topright\")\n",
    "m.add_control(control)\n",
    "\n",
    "def update_html( feature, **kwargs):\n",
    "     # print(\"feature\", type(feature))\n",
    "    print(\"geometry: \", feature['geometry'])\n",
    "    print(\"amenity: \", feature['properties']['amenity'])\n",
    "    print(\"name: \", feature['properties']['name'])\n",
    "    \n",
    "     #html.value = \"\"\"\n",
    "     #<h3><b>{}</b></h3>\n",
    "     # \"\"\".format(kwargs)\n",
    "#amenities_geoData.on_hover(update_html)\n",
    "amenities_geoData.on_click(update_html)"
   ]
  },
  {
   "cell_type": "code",
   "execution_count": 24,
   "metadata": {},
   "outputs": [
    {
     "data": {
      "application/vnd.jupyter.widget-view+json": {
       "model_id": "6a2c54a658ba45a1820f57ccb432bd49",
       "version_major": 2,
       "version_minor": 0
      },
      "text/plain": [
       "Map(bottom=601330.0, center=[-25.496081949999997, -49.28434174099833], controls=(ZoomControl(options=['positio…"
      ]
     },
     "metadata": {},
     "output_type": "display_data"
    }
   ],
   "source": [
    "m\n"
   ]
  },
  {
   "cell_type": "code",
   "execution_count": null,
   "metadata": {},
   "outputs": [],
   "source": [
    "### https://medium.com/swlh/how-to-use-mouse-events-on-ipyleaflet-4d002097efc0\n",
    "### This function will be called as a callback on click marker event.\n",
    "def handle_click(**kwargs):\n",
    "    print(kwargs)"
   ]
  },
  {
   "cell_type": "code",
   "execution_count": null,
   "metadata": {},
   "outputs": [],
   "source": [
    "marker.on_click(handle_click)"
   ]
  },
  {
   "cell_type": "code",
   "execution_count": null,
   "metadata": {},
   "outputs": [],
   "source": [
    "### Another way to listen to events is using the observe function, \n",
    "###that is called each time that an element change your state in the map.\n",
    "def handle_observe(event):\n",
    "    print(event)"
   ]
  },
  {
   "cell_type": "code",
   "execution_count": null,
   "metadata": {},
   "outputs": [],
   "source": [
    "marker = Marker(location=center, draggable=True)\n",
    "m.add_layer(marker)"
   ]
  },
  {
   "cell_type": "code",
   "execution_count": null,
   "metadata": {},
   "outputs": [],
   "source": [
    "marker.observe(handle_observe, 'location')"
   ]
  },
  {
   "cell_type": "code",
   "execution_count": null,
   "metadata": {},
   "outputs": [],
   "source": [
    "### Last but not least, you can create a function that interacts with all \n",
    "### the mouse events on your main map element, like the hover the map, \n",
    "### clicks and all the types of map events.\n",
    "def handle_map_interaction(**kwargs):\n",
    "    print(kwargs)"
   ]
  },
  {
   "cell_type": "code",
   "execution_count": null,
   "metadata": {},
   "outputs": [],
   "source": [
    "m.on_interaction(handle_map_interaction)"
   ]
  },
  {
   "cell_type": "code",
   "execution_count": 25,
   "metadata": {},
   "outputs": [],
   "source": [
    "from kafka import KafkaProducer"
   ]
  },
  {
   "cell_type": "code",
   "execution_count": 26,
   "metadata": {},
   "outputs": [
    {
     "data": {
      "text/plain": [
       "'geoloc'"
      ]
     },
     "execution_count": 26,
     "metadata": {},
     "output_type": "execute_result"
    }
   ],
   "source": [
    "kafkaTopic = 'geoloc'\n",
    "##kafkaTopic = 'quickstart-events'\n",
    "kafkaTopic"
   ]
  },
  {
   "cell_type": "code",
   "execution_count": 27,
   "metadata": {},
   "outputs": [],
   "source": [
    "### https://towardsdatascience.com/kafka-python-explained-in-10-lines-of-code-800e3e07dad1\n",
    "### https://kafka-python.readthedocs.io/en/master/usage.html#kafkaproducer\n",
    "\n",
    "#producer = KafkaProducer(bootstrap_servers=['localhost:9092'])\n",
    "bootstrap_servers=['localhost:9092']\n",
    "producer = KafkaProducer(bootstrap_servers=bootstrap_servers, \n",
    "                        value_serializer=lambda m: json.dumps(m).encode('utf-8'))"
   ]
  },
  {
   "cell_type": "code",
   "execution_count": 28,
   "metadata": {},
   "outputs": [],
   "source": [
    "### And you can filter the event inside the function definition:\n",
    "def filtered_map_interactions(**kwargs):\n",
    " #if kwargs.get(‘type’) == ‘mouseup’:\n",
    " #print(‘This is a mouse up event’)\n",
    " #if kwargs.get(‘type’) == ‘preclick’:m=None\n",
    " #print(‘This is a pre click event’)\n",
    "    \n",
    "\n",
    "    arg_type = kwargs.get('type') \n",
    "    if ((arg_type != 'click') and (arg_type != 'dblclick')):\n",
    "        return\n",
    "    if kwargs.get('type') == 'click':\n",
    "        print('This is a click event')\n",
    "        print(kwargs)\n",
    "    if kwargs.get(\"type\") == 'dblclick':\n",
    "        print(\"This is a 2x click event\")\n",
    "        print(kwargs)\n",
    "    data = {'message' : kwargs}\n",
    "    ack=producer.send(kafkaTopic, value=data)\n",
    "    #producer.flush()\n",
    "    metdata= ack.get()\n",
    "    print(\"Topic: \", metdata.topic)\n",
    "    print(\"Partition: \", metdata.partition)"
   ]
  },
  {
   "cell_type": "code",
   "execution_count": 29,
   "metadata": {},
   "outputs": [],
   "source": [
    "### listen only to filtered actions\n",
    "m.on_interaction(filtered_map_interactions)"
   ]
  },
  {
   "cell_type": "code",
   "execution_count": null,
   "metadata": {},
   "outputs": [],
   "source": [
    "from kafka import KafkaConsumer"
   ]
  },
  {
   "cell_type": "code",
   "execution_count": null,
   "metadata": {},
   "outputs": [],
   "source": [
    "consumer = KafkaConsumer(kafkaTopic\n",
    "                         , group_id='group_01'\n",
    "                         , bootstrap_servers=bootstrap_servers\n",
    "                         , auto_offset_reset='earliest'\n",
    "                         , value_deserializer=lambda m: json.loads(m.decode('utf-8'))\n",
    "                        )\n"
   ]
  },
  {
   "cell_type": "code",
   "execution_count": null,
   "metadata": {},
   "outputs": [],
   "source": [
    "consumer.subscribe(topics=kafkaTopic)\n",
    "for message in consumer:\n",
    "    print (\"[message]: \", message)\n",
    "    ##print (\"[message.topic]: \", message.topic)\n",
    "    ##print (\"[message.partition]: \", message.partition)\n",
    "    ##print (\"[message.offset]: \", message.offset)"
   ]
  },
  {
   "cell_type": "code",
   "execution_count": null,
   "metadata": {},
   "outputs": [],
   "source": [
    "consumer.subscription()"
   ]
  },
  {
   "cell_type": "code",
   "execution_count": null,
   "metadata": {},
   "outputs": [],
   "source": [
    "type(m)"
   ]
  },
  {
   "cell_type": "code",
   "execution_count": null,
   "metadata": {},
   "outputs": [],
   "source": [
    "m=None\n",
    "##filtered_map_interactions = None\n",
    "##m.on_interaction = None\n"
   ]
  },
  {
   "cell_type": "code",
   "execution_count": null,
   "metadata": {},
   "outputs": [],
   "source": [
    "### https://jupyter-notebook.readthedocs.io/en/latest/examples/Notebook/Connecting%20with%20the%20Qt%20Console.html\n",
    "### how print output to console jupyter\n",
    "%connect_info"
   ]
  },
  {
   "cell_type": "code",
   "execution_count": null,
   "metadata": {},
   "outputs": [],
   "source": [
    "%qtconsole"
   ]
  }
 ],
 "metadata": {
  "kernelspec": {
   "display_name": "Python 3",
   "language": "python",
   "name": "python3"
  },
  "language_info": {
   "codemirror_mode": {
    "name": "ipython",
    "version": 3
   },
   "file_extension": ".py",
   "mimetype": "text/x-python",
   "name": "python",
   "nbconvert_exporter": "python",
   "pygments_lexer": "ipython3",
   "version": "3.8.10"
  }
 },
 "nbformat": 4,
 "nbformat_minor": 4
}
